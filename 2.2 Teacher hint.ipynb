{
 "cells": [
  {
   "cell_type": "code",
   "execution_count": null,
   "metadata": {
    "collapsed": true
   },
   "outputs": [],
   "source": [
    "from pathlib import Path\n",
    "import json\n",
    "import os\n",
    "from tinydb import TinyDB\n",
    "current_dir = Path(os.getcwd()).absolute()\n",
    "results_dir = current_dir.joinpath('results')\n",
    "kv_data_dir = results_dir.joinpath('kvdb')\n",
    "kv_data_dir.mkdir(parents=True, exist_ok=True)\n",
    "\n",
    "def _load_json(json_path):\n",
    "    with open(json_path) as f:\n",
    "        return json.load(f)\n",
    "\n",
    "class DocumentDB(object):\n",
    "    def __init__(self, db_path):\n",
    "        ## You can use the code from the previous exmaple if you would like\n",
    "        people_json = kv_data_dir.joinpath('people.json')\n",
    "        visited_json = kv_data_dir.joinpath('visited.json')\n",
    "        sites_json = kv_data_dir.joinpath('sites.json')\n",
    "        measurements_json = kv_data_dir.joinpath('measurements.json')\n",
    "        self._db_path = Path(db_path)\n",
    "        self._db = None\n",
    "        self._person_lookup = _load_json(people_json)\n",
    "        #TODO\n",
    "        self._load_db()\n",
    "\n",
    "    def _get_site(self, site_id):\n",
    "        return self._site_lookup[str(site_id)]\n",
    "\n",
    "    def _get_measurements(self, person_id):\n",
    "        measurements = []\n",
    "        for values in self._measurements_lookup.values():\n",
    "            measurements.extend([value for value in values if str(value['person_id']) == str(person_id)])\n",
    "            return measurements\n",
    "\n",
    "    def _get_visit(self, visit_id):\n",
    "        visit = self._visit_lookup.get(str(visit_id))\n",
    "        #TOD    O: site_id = ...\n",
    "        #TOD    O: site = ...\n",
    "        visit['site'] = site\n",
    "        return visit\n",
    "\n",
    "    def _load_db(self):\n",
    "        self._db = TinyDB(self._db_path)\n",
    "        persons = self._person_lookup.items()\n",
    "\n",
    "    for person_id, record in persons:\n",
    "        measurements = self._get_measurements(person_id)\n",
    "        visit_ids = set([measurement['visit_id'] for measurement in measurements])\n",
    "        visits = []\n",
    "        for visit_id in visit_ids:\n",
    "            visit = self._get_visit(visit_id)\n",
    "            visit['measurements'] = [\n",
    "                measurement for measurement in measurements\n",
    "                if visit_id == measurement['visit_id']\n",
    "            ]\n",
    "            visits.append(visit)\n",
    "            record['visits'] = visits\n",
    "        self._db.insert(record)"
   ]
  }
 ],
 "metadata": {
  "kernelspec": {
   "display_name": "Python 3",
   "language": "python",
   "name": "python3"
  },
  "language_info": {
   "codemirror_mode": {
    "name": "ipython",
    "version": 2
   },
   "file_extension": ".py",
   "mimetype": "text/x-python",
   "name": "python",
   "nbconvert_exporter": "python",
   "pygments_lexer": "ipython2",
   "version": "2.7.6"
  }
 },
 "nbformat": 4,
 "nbformat_minor": 0
}
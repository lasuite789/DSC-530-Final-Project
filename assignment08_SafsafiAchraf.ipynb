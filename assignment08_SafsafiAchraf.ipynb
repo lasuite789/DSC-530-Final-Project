{
 "cells": [
  {
   "cell_type": "markdown",
   "id": "conscious-demand",
   "metadata": {},
   "source": [
    "# Achraf Safsafi {-}\n",
    "# DSC650 {-}\n",
    "# Assignment 8 {-}\n",
    "\n",
    "\n",
    "\n",
    "# {-}"
   ]
  },
  {
   "cell_type": "code",
   "execution_count": 1,
   "id": "arranged-spirit",
   "metadata": {},
   "outputs": [],
   "source": [
    "import json\n",
    "import uuid\n",
    "import time\n",
    "from kafka import KafkaProducer, KafkaAdminClient,KafkaConsumer\n",
    "from kafka.admin.new_topic import NewTopic\n",
    "from kafka.errors import TopicAlreadyExistsError"
   ]
  },
  {
   "cell_type": "code",
   "execution_count": 2,
   "id": "average-basics",
   "metadata": {},
   "outputs": [
    {
     "data": {
      "text/html": [
       "<div>\n",
       "<style scoped>\n",
       "    .dataframe tbody tr th:only-of-type {\n",
       "        vertical-align: middle;\n",
       "    }\n",
       "\n",
       "    .dataframe tbody tr th {\n",
       "        vertical-align: top;\n",
       "    }\n",
       "\n",
       "    .dataframe thead th {\n",
       "        text-align: right;\n",
       "    }\n",
       "</style>\n",
       "<table border=\"1\" class=\"dataframe\">\n",
       "  <thead>\n",
       "    <tr style=\"text-align: right;\">\n",
       "      <th></th>\n",
       "      <th>id</th>\n",
       "      <th>ride_id</th>\n",
       "      <th>uuid</th>\n",
       "      <th>timestamp</th>\n",
       "      <th>offset</th>\n",
       "      <th>x</th>\n",
       "      <th>y</th>\n",
       "      <th>z</th>\n",
       "      <th>timelapse</th>\n",
       "      <th>filename</th>\n",
       "      <th>t</th>\n",
       "    </tr>\n",
       "  </thead>\n",
       "  <tbody>\n",
       "    <tr>\n",
       "      <th>0</th>\n",
       "      <td>58682c5d48cad9d9e103431d773615bf</td>\n",
       "      <td>c9a2b46c9aa515b632eddc45c4868482</td>\n",
       "      <td>19b9aa10588646b3bf22c9b4865a7995</td>\n",
       "      <td>1970-01-01 00:25:03</td>\n",
       "      <td>0.822061</td>\n",
       "      <td>-0.994</td>\n",
       "      <td>0.045</td>\n",
       "      <td>-0.036</td>\n",
       "      <td>False</td>\n",
       "      <td>e2f795a7-6a7d-4500-b5d7-4569de996811.mov</td>\n",
       "      <td>000.0</td>\n",
       "    </tr>\n",
       "    <tr>\n",
       "      <th>1</th>\n",
       "      <td>58682c5d48cad9d9e103431d773615bf</td>\n",
       "      <td>c9a2b46c9aa515b632eddc45c4868482</td>\n",
       "      <td>19b9aa10588646b3bf22c9b4865a7995</td>\n",
       "      <td>1970-01-01 00:25:03</td>\n",
       "      <td>0.842061</td>\n",
       "      <td>-0.998</td>\n",
       "      <td>0.046</td>\n",
       "      <td>-0.040</td>\n",
       "      <td>False</td>\n",
       "      <td>e2f795a7-6a7d-4500-b5d7-4569de996811.mov</td>\n",
       "      <td>000.0</td>\n",
       "    </tr>\n",
       "    <tr>\n",
       "      <th>2</th>\n",
       "      <td>58682c5d48cad9d9e103431d773615bf</td>\n",
       "      <td>c9a2b46c9aa515b632eddc45c4868482</td>\n",
       "      <td>19b9aa10588646b3bf22c9b4865a7995</td>\n",
       "      <td>1970-01-01 00:25:03</td>\n",
       "      <td>0.862061</td>\n",
       "      <td>-0.999</td>\n",
       "      <td>0.047</td>\n",
       "      <td>-0.036</td>\n",
       "      <td>False</td>\n",
       "      <td>e2f795a7-6a7d-4500-b5d7-4569de996811.mov</td>\n",
       "      <td>000.0</td>\n",
       "    </tr>\n",
       "    <tr>\n",
       "      <th>3</th>\n",
       "      <td>58682c5d48cad9d9e103431d773615bf</td>\n",
       "      <td>c9a2b46c9aa515b632eddc45c4868482</td>\n",
       "      <td>19b9aa10588646b3bf22c9b4865a7995</td>\n",
       "      <td>1970-01-01 00:25:03</td>\n",
       "      <td>0.882061</td>\n",
       "      <td>-0.999</td>\n",
       "      <td>0.045</td>\n",
       "      <td>-0.034</td>\n",
       "      <td>False</td>\n",
       "      <td>e2f795a7-6a7d-4500-b5d7-4569de996811.mov</td>\n",
       "      <td>000.0</td>\n",
       "    </tr>\n",
       "    <tr>\n",
       "      <th>4</th>\n",
       "      <td>58682c5d48cad9d9e103431d773615bf</td>\n",
       "      <td>c9a2b46c9aa515b632eddc45c4868482</td>\n",
       "      <td>19b9aa10588646b3bf22c9b4865a7995</td>\n",
       "      <td>1970-01-01 00:25:03</td>\n",
       "      <td>0.902061</td>\n",
       "      <td>-0.999</td>\n",
       "      <td>0.048</td>\n",
       "      <td>-0.033</td>\n",
       "      <td>False</td>\n",
       "      <td>e2f795a7-6a7d-4500-b5d7-4569de996811.mov</td>\n",
       "      <td>000.0</td>\n",
       "    </tr>\n",
       "  </tbody>\n",
       "</table>\n",
       "</div>"
      ],
      "text/plain": [
       "                                 id                           ride_id  \\\n",
       "0  58682c5d48cad9d9e103431d773615bf  c9a2b46c9aa515b632eddc45c4868482   \n",
       "1  58682c5d48cad9d9e103431d773615bf  c9a2b46c9aa515b632eddc45c4868482   \n",
       "2  58682c5d48cad9d9e103431d773615bf  c9a2b46c9aa515b632eddc45c4868482   \n",
       "3  58682c5d48cad9d9e103431d773615bf  c9a2b46c9aa515b632eddc45c4868482   \n",
       "4  58682c5d48cad9d9e103431d773615bf  c9a2b46c9aa515b632eddc45c4868482   \n",
       "\n",
       "                               uuid            timestamp    offset      x  \\\n",
       "0  19b9aa10588646b3bf22c9b4865a7995  1970-01-01 00:25:03  0.822061 -0.994   \n",
       "1  19b9aa10588646b3bf22c9b4865a7995  1970-01-01 00:25:03  0.842061 -0.998   \n",
       "2  19b9aa10588646b3bf22c9b4865a7995  1970-01-01 00:25:03  0.862061 -0.999   \n",
       "3  19b9aa10588646b3bf22c9b4865a7995  1970-01-01 00:25:03  0.882061 -0.999   \n",
       "4  19b9aa10588646b3bf22c9b4865a7995  1970-01-01 00:25:03  0.902061 -0.999   \n",
       "\n",
       "       y      z  timelapse                                  filename      t  \n",
       "0  0.045 -0.036      False  e2f795a7-6a7d-4500-b5d7-4569de996811.mov  000.0  \n",
       "1  0.046 -0.040      False  e2f795a7-6a7d-4500-b5d7-4569de996811.mov  000.0  \n",
       "2  0.047 -0.036      False  e2f795a7-6a7d-4500-b5d7-4569de996811.mov  000.0  \n",
       "3  0.045 -0.034      False  e2f795a7-6a7d-4500-b5d7-4569de996811.mov  000.0  \n",
       "4  0.048 -0.033      False  e2f795a7-6a7d-4500-b5d7-4569de996811.mov  000.0  "
      ]
     },
     "execution_count": 2,
     "metadata": {},
     "output_type": "execute_result"
    }
   ],
   "source": [
    "import pandas as pd\n",
    "import glob\n",
    "\n",
    "files = glob.glob('dsc650/data/processed/bdd')\n",
    "df = pd.concat([pd.read_parquet(fp) for fp in files])\n",
    "df['timestamp'] = df['timestamp'].apply(lambda x: pd.Timestamp(x).strftime('%Y-%m-%d %H:%M:%S'))\n",
    "df.head()"
   ]
  },
  {
   "cell_type": "code",
   "execution_count": 3,
   "id": "developing-philosophy",
   "metadata": {},
   "outputs": [],
   "source": [
    "data = df.head(1).to_json()"
   ]
  },
  {
   "cell_type": "markdown",
   "id": "young-crowd",
   "metadata": {},
   "source": [
    "### Configuration Parameters "
   ]
  },
  {
   "cell_type": "code",
   "execution_count": 4,
   "id": "excellent-oxford",
   "metadata": {},
   "outputs": [
    {
     "data": {
      "text/plain": [
       "{'bootstrap_servers': ['kafka.kafka.svc.cluster.local:9092'],\n",
       " 'first_name': 'Achraf',\n",
       " 'last_name': 'Safsafi',\n",
       " 'client_id': 'SafsafiAchraf',\n",
       " 'topic_prefix': 'SafsafiAchraf'}"
      ]
     },
     "execution_count": 4,
     "metadata": {},
     "output_type": "execute_result"
    }
   ],
   "source": [
    "config = dict(\n",
    "    bootstrap_servers=['kafka.kafka.svc.cluster.local:9092'],\n",
    "    first_name='Achraf',\n",
    "    last_name='Safsafi'\n",
    ")\n",
    "\n",
    "config['client_id'] = '{}{}'.format(\n",
    "    config['last_name'], \n",
    "    config['first_name']\n",
    ")\n",
    "config['topic_prefix'] = '{}{}'.format(\n",
    "    config['last_name'], \n",
    "    config['first_name']\n",
    ")\n",
    "\n",
    "config"
   ]
  },
  {
   "cell_type": "markdown",
   "id": "fresh-investor",
   "metadata": {},
   "source": [
    "### Create Topic Utility Function"
   ]
  },
  {
   "cell_type": "code",
   "execution_count": 5,
   "id": "handled-jungle",
   "metadata": {},
   "outputs": [
    {
     "name": "stdout",
     "output_type": "stream",
     "text": [
      "Topic \"SafsafiAchraf-locations\" already exists\n"
     ]
    }
   ],
   "source": [
    "def create_kafka_topic(topic_name, config=config, num_partitions=1, replication_factor=1):\n",
    "    bootstrap_servers = config['bootstrap_servers']\n",
    "    client_id = config['client_id']\n",
    "    topic_prefix = config['topic_prefix']\n",
    "    name = '{}-{}'.format(topic_prefix, topic_name)\n",
    "    \n",
    "    admin_client = KafkaAdminClient(\n",
    "        bootstrap_servers=bootstrap_servers, \n",
    "        client_id=client_id\n",
    "    )\n",
    "    \n",
    "    topic = NewTopic(\n",
    "        name=name,\n",
    "        num_partitions=num_partitions,\n",
    "        replication_factor=replication_factor\n",
    "    )\n",
    "\n",
    "    topic_list = [topic]\n",
    "    try:\n",
    "        admin_client.create_topics(new_topics=topic_list)\n",
    "        print('Created topic \"{}\"'.format(name))\n",
    "    except TopicAlreadyExistsError as e:\n",
    "        print('Topic \"{}\" already exists'.format(name))\n",
    "    \n",
    "create_kafka_topic('locations')"
   ]
  },
  {
   "cell_type": "markdown",
   "id": "essential-greenhouse",
   "metadata": {},
   "source": [
    "### Kafka Producer"
   ]
  },
  {
   "cell_type": "code",
   "execution_count": 6,
   "id": "french-sensitivity",
   "metadata": {},
   "outputs": [
    {
     "name": "stdout",
     "output_type": "stream",
     "text": [
      "Message Sent to locations\n"
     ]
    }
   ],
   "source": [
    "producer = KafkaProducer(bootstrap_servers='kafka.kafka.svc.cluster.local:9092',\n",
    "                                 value_serializer=lambda v: json.dumps(v).encode('utf-8'))\n",
    "\n",
    "producer.send('locations',data)\n",
    "time.sleep(1)\n",
    "producer.flush(100)\n",
    "\n",
    "print(\"Message Sent to locations\")"
   ]
  },
  {
   "cell_type": "markdown",
   "id": "gross-arlington",
   "metadata": {},
   "source": [
    "### Kafka Consumer"
   ]
  },
  {
   "cell_type": "code",
   "execution_count": null,
   "id": "cutting-paris",
   "metadata": {},
   "outputs": [
    {
     "name": "stdout",
     "output_type": "stream",
     "text": [
      "ConsumerRecord(topic='locations', partition=0, offset=51518143, timestamp=1621201682882, timestamp_type=0, key=None, value='{\"id\":{\"0\":\"58682c5d48cad9d9e103431d773615bf\"},\"ride_id\":{\"0\":\"c9a2b46c9aa515b632eddc45c4868482\"},\"uuid\":{\"0\":\"19b9aa10588646b3bf22c9b4865a7995\"},\"timestamp\":{\"0\":\"1970-01-01 00:25:03\"},\"offset\":{\"0\":0.8220608865},\"x\":{\"0\":-0.994},\"y\":{\"0\":0.045},\"z\":{\"0\":-0.036},\"timelapse\":{\"0\":false},\"filename\":{\"0\":\"e2f795a7-6a7d-4500-b5d7-4569de996811.mov\"},\"t\":{\"0\":\"000.0\"}}', headers=[], checksum=None, serialized_key_size=-1, serialized_value_size=424, serialized_header_size=-1)\n"
     ]
    }
   ],
   "source": [
    "\n",
    "consumer = KafkaConsumer('locations',\n",
    "                             bootstrap_servers=['kafka.kafka.svc.cluster.local:9092'],\n",
    "                         value_deserializer=lambda m: json.loads(m.decode('utf-8')))\n",
    "\n",
    "for message in consumer:\n",
    "        print(message)\n",
    "                 \n",
    "consumer.close()"
   ]
  }
 ],
 "metadata": {
  "kernelspec": {
   "display_name": "Python 3",
   "language": "python",
   "name": "python3"
  },
  "language_info": {
   "codemirror_mode": {
    "name": "ipython",
    "version": 3
   },
   "file_extension": ".py",
   "mimetype": "text/x-python",
   "name": "python",
   "nbconvert_exporter": "python",
   "pygments_lexer": "ipython3",
   "version": "3.8.8"
  }
 },
 "nbformat": 4,
 "nbformat_minor": 5
}

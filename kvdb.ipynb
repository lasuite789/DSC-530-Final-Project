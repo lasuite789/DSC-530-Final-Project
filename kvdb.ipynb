{
 "cells": [
  {
   "cell_type": "markdown",
   "id": "japanese-awareness",
   "metadata": {},
   "source": [
    "# Assignment 2"
   ]
  },
  {
   "cell_type": "code",
   "execution_count": 1,
   "id": "copyrighted-culture",
   "metadata": {},
   "outputs": [
    {
     "data": {
      "text/html": [
       "<div>\n",
       "<style scoped>\n",
       "    .dataframe tbody tr th:only-of-type {\n",
       "        vertical-align: middle;\n",
       "    }\n",
       "\n",
       "    .dataframe tbody tr th {\n",
       "        vertical-align: top;\n",
       "    }\n",
       "\n",
       "    .dataframe thead th {\n",
       "        text-align: right;\n",
       "    }\n",
       "</style>\n",
       "<table border=\"1\" class=\"dataframe\">\n",
       "  <thead>\n",
       "    <tr style=\"text-align: right;\">\n",
       "      <th></th>\n",
       "      <th>site_id</th>\n",
       "      <th>latitude</th>\n",
       "      <th>longitude</th>\n",
       "    </tr>\n",
       "  </thead>\n",
       "  <tbody>\n",
       "    <tr>\n",
       "      <th>0</th>\n",
       "      <td>DR-1</td>\n",
       "      <td>-49.85</td>\n",
       "      <td>-128.57</td>\n",
       "    </tr>\n",
       "    <tr>\n",
       "      <th>1</th>\n",
       "      <td>DR-3</td>\n",
       "      <td>-47.15</td>\n",
       "      <td>-126.72</td>\n",
       "    </tr>\n",
       "    <tr>\n",
       "      <th>2</th>\n",
       "      <td>MSK-4</td>\n",
       "      <td>-48.87</td>\n",
       "      <td>-123.40</td>\n",
       "    </tr>\n",
       "  </tbody>\n",
       "</table>\n",
       "</div>"
      ],
      "text/plain": [
       "  site_id  latitude  longitude\n",
       "0    DR-1    -49.85    -128.57\n",
       "1    DR-3    -47.15    -126.72\n",
       "2   MSK-4    -48.87    -123.40"
      ]
     },
     "execution_count": 1,
     "metadata": {},
     "output_type": "execute_result"
    }
   ],
   "source": [
    " import pandas as pd\n",
    " import s3fs\n",
    "\n",
    " s3 = s3fs.S3FileSystem(\n",
    "    anon=True,\n",
    "    client_kwargs={\n",
    "        'endpoint_url': 'https://storage.budsc.midwest-datascience.com'\n",
    "      }\n",
    "   )\n",
    "\n",
    " df1 = pd.read_csv(\n",
    "    s3.open('data/external/tidynomicon/site.csv', mode='rb')\n",
    " )\n",
    "\n",
    "df1.head()"
   ]
  },
  {
   "cell_type": "code",
   "execution_count": 2,
   "id": "mighty-clearance",
   "metadata": {},
   "outputs": [
    {
     "data": {
      "text/html": [
       "<div>\n",
       "<style scoped>\n",
       "    .dataframe tbody tr th:only-of-type {\n",
       "        vertical-align: middle;\n",
       "    }\n",
       "\n",
       "    .dataframe tbody tr th {\n",
       "        vertical-align: top;\n",
       "    }\n",
       "\n",
       "    .dataframe thead th {\n",
       "        text-align: right;\n",
       "    }\n",
       "</style>\n",
       "<table border=\"1\" class=\"dataframe\">\n",
       "  <thead>\n",
       "    <tr style=\"text-align: right;\">\n",
       "      <th></th>\n",
       "      <th>visit_id</th>\n",
       "      <th>person_id</th>\n",
       "      <th>quantity</th>\n",
       "      <th>reading</th>\n",
       "    </tr>\n",
       "  </thead>\n",
       "  <tbody>\n",
       "    <tr>\n",
       "      <th>0</th>\n",
       "      <td>619</td>\n",
       "      <td>dyer</td>\n",
       "      <td>rad</td>\n",
       "      <td>9.82</td>\n",
       "    </tr>\n",
       "    <tr>\n",
       "      <th>1</th>\n",
       "      <td>619</td>\n",
       "      <td>dyer</td>\n",
       "      <td>sal</td>\n",
       "      <td>0.13</td>\n",
       "    </tr>\n",
       "    <tr>\n",
       "      <th>2</th>\n",
       "      <td>622</td>\n",
       "      <td>dyer</td>\n",
       "      <td>rad</td>\n",
       "      <td>7.80</td>\n",
       "    </tr>\n",
       "    <tr>\n",
       "      <th>3</th>\n",
       "      <td>622</td>\n",
       "      <td>dyer</td>\n",
       "      <td>sal</td>\n",
       "      <td>0.09</td>\n",
       "    </tr>\n",
       "    <tr>\n",
       "      <th>4</th>\n",
       "      <td>734</td>\n",
       "      <td>pb</td>\n",
       "      <td>rad</td>\n",
       "      <td>8.41</td>\n",
       "    </tr>\n",
       "  </tbody>\n",
       "</table>\n",
       "</div>"
      ],
      "text/plain": [
       "   visit_id person_id quantity  reading\n",
       "0       619      dyer      rad     9.82\n",
       "1       619      dyer      sal     0.13\n",
       "2       622      dyer      rad     7.80\n",
       "3       622      dyer      sal     0.09\n",
       "4       734        pb      rad     8.41"
      ]
     },
     "execution_count": 2,
     "metadata": {},
     "output_type": "execute_result"
    }
   ],
   "source": [
    "df2 = pd.read_csv(\n",
    "    s3.open('data/external/tidynomicon/measurements.csv', mode='rb')\n",
    " )\n",
    "df2.head()"
   ]
  },
  {
   "cell_type": "code",
   "execution_count": 3,
   "id": "broke-albert",
   "metadata": {},
   "outputs": [
    {
     "data": {
      "text/html": [
       "<div>\n",
       "<style scoped>\n",
       "    .dataframe tbody tr th:only-of-type {\n",
       "        vertical-align: middle;\n",
       "    }\n",
       "\n",
       "    .dataframe tbody tr th {\n",
       "        vertical-align: top;\n",
       "    }\n",
       "\n",
       "    .dataframe thead th {\n",
       "        text-align: right;\n",
       "    }\n",
       "</style>\n",
       "<table border=\"1\" class=\"dataframe\">\n",
       "  <thead>\n",
       "    <tr style=\"text-align: right;\">\n",
       "      <th></th>\n",
       "      <th>person_id</th>\n",
       "      <th>personal_name</th>\n",
       "      <th>family_name</th>\n",
       "    </tr>\n",
       "  </thead>\n",
       "  <tbody>\n",
       "    <tr>\n",
       "      <th>0</th>\n",
       "      <td>dyer</td>\n",
       "      <td>William</td>\n",
       "      <td>Dyer</td>\n",
       "    </tr>\n",
       "    <tr>\n",
       "      <th>1</th>\n",
       "      <td>pb</td>\n",
       "      <td>Frank</td>\n",
       "      <td>Pabodie</td>\n",
       "    </tr>\n",
       "    <tr>\n",
       "      <th>2</th>\n",
       "      <td>lake</td>\n",
       "      <td>Anderson</td>\n",
       "      <td>Lake</td>\n",
       "    </tr>\n",
       "    <tr>\n",
       "      <th>3</th>\n",
       "      <td>roe</td>\n",
       "      <td>Valentina</td>\n",
       "      <td>Roerich</td>\n",
       "    </tr>\n",
       "    <tr>\n",
       "      <th>4</th>\n",
       "      <td>danforth</td>\n",
       "      <td>Frank</td>\n",
       "      <td>Danforth</td>\n",
       "    </tr>\n",
       "  </tbody>\n",
       "</table>\n",
       "</div>"
      ],
      "text/plain": [
       "  person_id personal_name family_name\n",
       "0      dyer       William        Dyer\n",
       "1        pb         Frank     Pabodie\n",
       "2      lake      Anderson        Lake\n",
       "3       roe     Valentina     Roerich\n",
       "4  danforth         Frank    Danforth"
      ]
     },
     "execution_count": 3,
     "metadata": {},
     "output_type": "execute_result"
    }
   ],
   "source": [
    "df3 = pd.read_csv(\n",
    "    s3.open('data/external/tidynomicon/person.csv', mode='rb')\n",
    " )\n",
    "df3.head()"
   ]
  },
  {
   "cell_type": "code",
   "execution_count": 4,
   "id": "acknowledged-reflection",
   "metadata": {},
   "outputs": [
    {
     "data": {
      "text/html": [
       "<div>\n",
       "<style scoped>\n",
       "    .dataframe tbody tr th:only-of-type {\n",
       "        vertical-align: middle;\n",
       "    }\n",
       "\n",
       "    .dataframe tbody tr th {\n",
       "        vertical-align: top;\n",
       "    }\n",
       "\n",
       "    .dataframe thead th {\n",
       "        text-align: right;\n",
       "    }\n",
       "</style>\n",
       "<table border=\"1\" class=\"dataframe\">\n",
       "  <thead>\n",
       "    <tr style=\"text-align: right;\">\n",
       "      <th></th>\n",
       "      <th>visit_id</th>\n",
       "      <th>site_id</th>\n",
       "      <th>visit_date</th>\n",
       "    </tr>\n",
       "  </thead>\n",
       "  <tbody>\n",
       "    <tr>\n",
       "      <th>0</th>\n",
       "      <td>619</td>\n",
       "      <td>DR-1</td>\n",
       "      <td>1927-02-08</td>\n",
       "    </tr>\n",
       "    <tr>\n",
       "      <th>1</th>\n",
       "      <td>622</td>\n",
       "      <td>DR-1</td>\n",
       "      <td>1927-02-10</td>\n",
       "    </tr>\n",
       "    <tr>\n",
       "      <th>2</th>\n",
       "      <td>734</td>\n",
       "      <td>DR-3</td>\n",
       "      <td>1930-01-07</td>\n",
       "    </tr>\n",
       "    <tr>\n",
       "      <th>3</th>\n",
       "      <td>735</td>\n",
       "      <td>DR-3</td>\n",
       "      <td>1930-01-12</td>\n",
       "    </tr>\n",
       "    <tr>\n",
       "      <th>4</th>\n",
       "      <td>751</td>\n",
       "      <td>DR-3</td>\n",
       "      <td>1930-02-26</td>\n",
       "    </tr>\n",
       "  </tbody>\n",
       "</table>\n",
       "</div>"
      ],
      "text/plain": [
       "   visit_id site_id  visit_date\n",
       "0       619    DR-1  1927-02-08\n",
       "1       622    DR-1  1927-02-10\n",
       "2       734    DR-3  1930-01-07\n",
       "3       735    DR-3  1930-01-12\n",
       "4       751    DR-3  1930-02-26"
      ]
     },
     "execution_count": 4,
     "metadata": {},
     "output_type": "execute_result"
    }
   ],
   "source": [
    "df4 = pd.read_csv(\n",
    "    s3.open('data/external/tidynomicon/visited.csv', mode='rb')\n",
    " )\n",
    "df4.head()\n",
    "\n"
   ]
  },
  {
   "cell_type": "markdown",
   "id": "loose-teens",
   "metadata": {},
   "source": [
    "## Assignment 2.1"
   ]
  },
  {
   "cell_type": "code",
   "execution_count": 5,
   "id": "least-missouri",
   "metadata": {},
   "outputs": [],
   "source": [
    "import json\n",
    "from pathlib import Path\n",
    "import os\n",
    "\n",
    "import pandas as pd\n",
    "import s3fs\n",
    "\n",
    "\n",
    "def read_cluster_csv(file_path, endpoint_url='https://storage.budsc.midwest-datascience.com'):\n",
    "    s3 = s3fs.S3FileSystem(\n",
    "        anon=True,\n",
    "        client_kwargs={\n",
    "            'endpoint_url': endpoint_url\n",
    "        }\n",
    "    )\n",
    "    return pd.read_csv(s3.open(file_path, mode='rb'))\n",
    "\n",
    "current_dir = Path(os.getcwd()).absolute()\n",
    "results_dir = current_dir.joinpath('results')\n",
    "kv_data_dir = results_dir.joinpath('kvdb')\n",
    "kv_data_dir.mkdir(parents=True, exist_ok=True)\n",
    "\n",
    "people_json = kv_data_dir.joinpath('people.json')\n",
    "visited_json = kv_data_dir.joinpath('visited.json')\n",
    "sites_json = kv_data_dir.joinpath('sites.json')\n",
    "measurements_json = kv_data_dir.joinpath('measurements.json')"
   ]
  },
  {
   "cell_type": "code",
   "execution_count": 6,
   "id": "computational-metadata",
   "metadata": {},
   "outputs": [],
   "source": [
    "class KVDB(object):\n",
    "    def __init__(self, db_path):\n",
    "        self._db_path = Path(db_path)\n",
    "        self._db = {}\n",
    "        self._load_db()\n",
    "\n",
    "    def _load_db(self):\n",
    "        if self._db_path.exists():\n",
    "            with open(self._db_path) as f:\n",
    "                self._db = json.load(f)\n",
    "\n",
    "    def get_value(self, key):\n",
    "        return self._db.get(key)\n",
    "\n",
    "    def set_value(self, key, value):\n",
    "        self._db[key] = value\n",
    "\n",
    "    def save(self):\n",
    "        with open(self._db_path, 'w') as f:\n",
    "            json.dump(self._db, f, indent=2)"
   ]
  },
  {
   "cell_type": "code",
   "execution_count": 7,
   "id": "recovered-columbus",
   "metadata": {},
   "outputs": [],
   "source": [
    "def create_sites_kvdb():\n",
    "    db = KVDB(sites_json)\n",
    "    #df1 = read_cluster_csv('data/external/tidynomicon/site.csv')\n",
    "    for site_id, group_df in df1.groupby('site_id'):\n",
    "        db.set_value(site_id, group_df.to_dict(orient='records')[0])\n",
    "    db.save()\n",
    "\n",
    "def create_measurements_kvdb():\n",
    "    db = KVDB(measurements_json)\n",
    "   # df2 = read_cluster_csv('data/external/tidynomicon/measurements.csv')\n",
    "    for key,group_df in df2.groupby(['visit_id','person_id','quantity']):\n",
    "        db.set_value(str(key), group_df.to_dict(orient='records')[0])\n",
    "\n",
    "    db.save()\n",
    "    \n",
    "    \n",
    "def create_people_kvdb():\n",
    "    db = KVDB(people_json)\n",
    "    #df3 = read_cluster_csv('data/external/tidynomicon/person.csv')\n",
    "    for person_id, group_df in df3.groupby('person_id'):\n",
    "        db.set_value(person_id, group_df.to_dict(orient='records')[0])\n",
    "    db.save()\n",
    "\n",
    "\n",
    "def create_visits_kvdb():\n",
    "    db = KVDB(visited_json)\n",
    "    #df4 = read_cluster_csv('data/external/tidynomicon/visited.csv')\n",
    "    for key, group_df in df4.groupby(['visit_id','site_id']):\n",
    "        db.set_value(str(key), group_df.to_dict(orient='records')[0])\n",
    "   \n",
    "    db.save()\n",
    "    \n"
   ]
  },
  {
   "cell_type": "code",
   "execution_count": 8,
   "id": "accepted-expense",
   "metadata": {},
   "outputs": [],
   "source": [
    "create_sites_kvdb()\n",
    "create_measurements_kvdb()\n",
    "create_people_kvdb()\n",
    "create_visits_kvdb()"
   ]
  },
  {
   "cell_type": "code",
   "execution_count": 9,
   "id": "upset-earth",
   "metadata": {},
   "outputs": [
    {
     "data": {
      "text/plain": [
       "{'site_id': 'DR-1', 'latitude': -49.85, 'longitude': -128.57}"
      ]
     },
     "execution_count": 9,
     "metadata": {},
     "output_type": "execute_result"
    }
   ],
   "source": [
    " kvdb_path = 'sites.json'\n",
    " kvdb = KVDB(kvdb_path)\n",
    " key = ('DR-1')\n",
    " value = dict(\n",
    "    site_id='DR-1',\n",
    "    latitude= -49.85,\n",
    "    longitude=-128.57\n",
    " )\n",
    " kvdb.set_value(key, value)\n",
    " retrieved_value = kvdb.get_value(key)\n",
    "retrieved_value"
   ]
  },
  {
   "cell_type": "code",
   "execution_count": 10,
   "id": "tutorial-living",
   "metadata": {},
   "outputs": [
    {
     "data": {
      "text/plain": [
       "{'visit_id': 619, 'person_id': 'dyer', 'quantity': 'rad'}"
      ]
     },
     "execution_count": 10,
     "metadata": {},
     "output_type": "execute_result"
    }
   ],
   "source": [
    "\n",
    " kvdb_path = 'measurements.json'\n",
    " kvdb = KVDB(kvdb_path)\n",
    " key = (619, 'dyer','rad')\n",
    " value = dict(\n",
    "    visit_id=619,\n",
    "    person_id='dyer',\n",
    "    quantity='rad'\n",
    " )\n",
    " kvdb.set_value(key, value)\n",
    " retrieved_value = kvdb.get_value(key)\n",
    "retrieved_value"
   ]
  },
  {
   "cell_type": "code",
   "execution_count": 11,
   "id": "emerging-jacksonville",
   "metadata": {},
   "outputs": [
    {
     "data": {
      "text/plain": [
       "{'person_id': 'dyer', 'personal_name': 'William', 'family_name': 'Dyer'}"
      ]
     },
     "execution_count": 11,
     "metadata": {},
     "output_type": "execute_result"
    }
   ],
   "source": [
    " kvdb_path = 'people.json'\n",
    " kvdb = KVDB(kvdb_path)\n",
    " key = ('dyer')\n",
    " value = dict(\n",
    "    person_id='dyer',\n",
    "    personal_name= 'William',\n",
    "    family_name='Dyer'\n",
    " )\n",
    " kvdb.set_value(key, value)\n",
    " retrieved_value = kvdb.get_value(key)\n",
    "retrieved_value"
   ]
  },
  {
   "cell_type": "code",
   "execution_count": 12,
   "id": "addressed-admission",
   "metadata": {},
   "outputs": [
    {
     "data": {
      "text/plain": [
       "{'visit_id': 619, 'site_id': 'DR-1', 'visit_date': '1927-02-08'}"
      ]
     },
     "execution_count": 12,
     "metadata": {},
     "output_type": "execute_result"
    }
   ],
   "source": [
    " kvdb_path = 'visits.json'\n",
    " kvdb = KVDB(kvdb_path)\n",
    " key = (619, 'DR-1')\n",
    " value = dict(\n",
    "    visit_id=619,\n",
    "    site_id='DR-1',\n",
    "    visit_date='1927-02-08'\n",
    " )\n",
    " kvdb.set_value(key, value)\n",
    " retrieved_value = kvdb.get_value(key)\n",
    "retrieved_value"
   ]
  },
  {
   "cell_type": "code",
   "execution_count": 19,
   "id": "signed-memphis",
   "metadata": {},
   "outputs": [
    {
     "name": "stdout",
     "output_type": "stream",
     "text": [
      "{'DR-1': {'site_id': 'DR-1', 'latitude': -49.85, 'longitude': -128.57}, 'DR-3': {'site_id': 'DR-3', 'latitude': -47.15, 'longitude': -126.72}, 'MSK-4': {'site_id': 'MSK-4', 'latitude': -48.87, 'longitude': -123.4}}\n"
     ]
    }
   ],
   "source": [
    "with open('results/kvdb/sites.json','r') as file:\n",
    "          sites_dict = json.load(file)\n",
    "print(sites_dict)"
   ]
  },
  {
   "cell_type": "code",
   "execution_count": 18,
   "id": "little-programming",
   "metadata": {},
   "outputs": [
    {
     "name": "stdout",
     "output_type": "stream",
     "text": [
      "{\"(619, 'dyer', 'rad')\": {'visit_id': 619, 'person_id': 'dyer', 'quantity': 'rad', 'reading': 9.82}, \"(619, 'dyer', 'sal')\": {'visit_id': 619, 'person_id': 'dyer', 'quantity': 'sal', 'reading': 0.13}, \"(622, 'dyer', 'rad')\": {'visit_id': 622, 'person_id': 'dyer', 'quantity': 'rad', 'reading': 7.8}, \"(622, 'dyer', 'sal')\": {'visit_id': 622, 'person_id': 'dyer', 'quantity': 'sal', 'reading': 0.09}, \"(734, 'lake', 'sal')\": {'visit_id': 734, 'person_id': 'lake', 'quantity': 'sal', 'reading': 0.05}, \"(734, 'pb', 'rad')\": {'visit_id': 734, 'person_id': 'pb', 'quantity': 'rad', 'reading': 8.41}, \"(734, 'pb', 'temp')\": {'visit_id': 734, 'person_id': 'pb', 'quantity': 'temp', 'reading': -21.5}, \"(735, 'pb', 'rad')\": {'visit_id': 735, 'person_id': 'pb', 'quantity': 'rad', 'reading': 7.22}, \"(735, 'pb', 'sal')\": {'visit_id': 735, 'person_id': 'pb', 'quantity': 'sal', 'reading': 0.06}, \"(735, 'pb', 'temp')\": {'visit_id': 735, 'person_id': 'pb', 'quantity': 'temp', 'reading': -26.0}, \"(751, 'pb', 'rad')\": {'visit_id': 751, 'person_id': 'pb', 'quantity': 'rad', 'reading': 4.35}, \"(751, 'pb', 'temp')\": {'visit_id': 751, 'person_id': 'pb', 'quantity': 'temp', 'reading': -18.5}, \"(752, 'lake', 'rad')\": {'visit_id': 752, 'person_id': 'lake', 'quantity': 'rad', 'reading': 2.19}, \"(752, 'lake', 'sal')\": {'visit_id': 752, 'person_id': 'lake', 'quantity': 'sal', 'reading': 0.09}, \"(752, 'lake', 'temp')\": {'visit_id': 752, 'person_id': 'lake', 'quantity': 'temp', 'reading': -16.0}, \"(752, 'roe', 'sal')\": {'visit_id': 752, 'person_id': 'roe', 'quantity': 'sal', 'reading': 41.6}, \"(837, 'lake', 'rad')\": {'visit_id': 837, 'person_id': 'lake', 'quantity': 'rad', 'reading': 1.46}, \"(837, 'lake', 'sal')\": {'visit_id': 837, 'person_id': 'lake', 'quantity': 'sal', 'reading': 0.21}, \"(837, 'roe', 'sal')\": {'visit_id': 837, 'person_id': 'roe', 'quantity': 'sal', 'reading': 22.5}, \"(844, 'roe', 'rad')\": {'visit_id': 844, 'person_id': 'roe', 'quantity': 'rad', 'reading': 11.25}}\n"
     ]
    }
   ],
   "source": [
    "with open('','r') as file:\n",
    "        measurements_dict = json.load(file)\n",
    "print(measurements_dict)"
   ]
  },
  {
   "cell_type": "code",
   "execution_count": 20,
   "id": "renewable-quantity",
   "metadata": {},
   "outputs": [
    {
     "name": "stdout",
     "output_type": "stream",
     "text": [
      "{'danforth': {'person_id': 'danforth', 'personal_name': 'Frank', 'family_name': 'Danforth'}, 'dyer': {'person_id': 'dyer', 'personal_name': 'William', 'family_name': 'Dyer'}, 'lake': {'person_id': 'lake', 'personal_name': 'Anderson', 'family_name': 'Lake'}, 'pb': {'person_id': 'pb', 'personal_name': 'Frank', 'family_name': 'Pabodie'}, 'roe': {'person_id': 'roe', 'personal_name': 'Valentina', 'family_name': 'Roerich'}}\n"
     ]
    }
   ],
   "source": [
    "with open('results/kvdb/people.json','r') as file:\n",
    "          people_dict = json.load(file)\n",
    "print(people_dict)"
   ]
  },
  {
   "cell_type": "code",
   "execution_count": 21,
   "id": "awful-oasis",
   "metadata": {},
   "outputs": [
    {
     "name": "stdout",
     "output_type": "stream",
     "text": [
      "{\"(619, 'DR-1')\": {'visit_id': 619, 'site_id': 'DR-1', 'visit_date': '1927-02-08'}, \"(622, 'DR-1')\": {'visit_id': 622, 'site_id': 'DR-1', 'visit_date': '1927-02-10'}, \"(734, 'DR-3')\": {'visit_id': 734, 'site_id': 'DR-3', 'visit_date': '1930-01-07'}, \"(735, 'DR-3')\": {'visit_id': 735, 'site_id': 'DR-3', 'visit_date': '1930-01-12'}, \"(751, 'DR-3')\": {'visit_id': 751, 'site_id': 'DR-3', 'visit_date': '1930-02-26'}, \"(752, 'DR-3')\": {'visit_id': 752, 'site_id': 'DR-3', 'visit_date': nan}, \"(837, 'MSK-4')\": {'visit_id': 837, 'site_id': 'MSK-4', 'visit_date': '1932-01-14'}, \"(844, 'DR-1')\": {'visit_id': 844, 'site_id': 'DR-1', 'visit_date': '1932-03-22'}}\n"
     ]
    }
   ],
   "source": [
    "with open('results/kvdb/visited.json','r') as file:\n",
    "          visited_dict = json.load(file)\n",
    "print(visited_dict)"
   ]
  },
  {
   "cell_type": "code",
   "execution_count": null,
   "id": "driving-ghost",
   "metadata": {},
   "outputs": [],
   "source": []
  }
 ],
 "metadata": {
  "kernelspec": {
   "display_name": "Python 3",
   "language": "python",
   "name": "python3"
  },
  "language_info": {
   "codemirror_mode": {
    "name": "ipython",
    "version": 3
   },
   "file_extension": ".py",
   "mimetype": "text/x-python",
   "name": "python",
   "nbconvert_exporter": "python",
   "pygments_lexer": "ipython3",
   "version": "3.8.8"
  }
 },
 "nbformat": 4,
 "nbformat_minor": 5
}

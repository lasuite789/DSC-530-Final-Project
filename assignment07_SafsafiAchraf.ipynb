{
 "cells": [
  {
   "cell_type": "markdown",
   "id": "advanced-french",
   "metadata": {},
   "source": [
    "# Achraf Safsafi {-}\n",
    "# DSC650 {-}\n",
    "# Assignment 7 {-}"
   ]
  },
  {
   "cell_type": "markdown",
   "id": "representative-fever",
   "metadata": {},
   "source": [
    "# {-}\n",
    "\n",
    "\n",
    "\n",
    "\n"
   ]
  },
  {
   "cell_type": "markdown",
   "id": "tested-pendant",
   "metadata": {},
   "source": [
    "# Assignment 7.1 : {-}\n",
    "\n"
   ]
  },
  {
   "cell_type": "markdown",
   "id": "coordinate-burlington",
   "metadata": {},
   "source": [
    "# A : {-}"
   ]
  },
  {
   "cell_type": "code",
   "execution_count": 1,
   "id": "progressive-fashion",
   "metadata": {},
   "outputs": [],
   "source": [
    "import os\n",
    "import hashlib\n",
    "import pygeohash as pgh\n",
    "import numpy as np\n",
    "import pandas as pd\n",
    "from pathlib import Path"
   ]
  },
  {
   "cell_type": "code",
   "execution_count": 2,
   "id": "saved-calvin",
   "metadata": {},
   "outputs": [
    {
     "data": {
      "text/html": [
       "<div>\n",
       "<style scoped>\n",
       "    .dataframe tbody tr th:only-of-type {\n",
       "        vertical-align: middle;\n",
       "    }\n",
       "\n",
       "    .dataframe tbody tr th {\n",
       "        vertical-align: top;\n",
       "    }\n",
       "\n",
       "    .dataframe thead th {\n",
       "        text-align: right;\n",
       "    }\n",
       "</style>\n",
       "<table border=\"1\" class=\"dataframe\">\n",
       "  <thead>\n",
       "    <tr style=\"text-align: right;\">\n",
       "      <th></th>\n",
       "      <th>codeshare</th>\n",
       "      <th>equipment</th>\n",
       "      <th>airline.active</th>\n",
       "      <th>airline.airline_id</th>\n",
       "      <th>airline.alias</th>\n",
       "      <th>airline.callsign</th>\n",
       "      <th>airline.country</th>\n",
       "      <th>airline.iata</th>\n",
       "      <th>airline.icao</th>\n",
       "      <th>airline.name</th>\n",
       "      <th>...</th>\n",
       "      <th>dst_airport.dst</th>\n",
       "      <th>dst_airport.iata</th>\n",
       "      <th>dst_airport.icao</th>\n",
       "      <th>dst_airport.latitude</th>\n",
       "      <th>dst_airport.longitude</th>\n",
       "      <th>dst_airport.name</th>\n",
       "      <th>dst_airport.source</th>\n",
       "      <th>dst_airport.timezone</th>\n",
       "      <th>dst_airport.type</th>\n",
       "      <th>dst_airport.tz_id</th>\n",
       "    </tr>\n",
       "  </thead>\n",
       "  <tbody>\n",
       "    <tr>\n",
       "      <th>0</th>\n",
       "      <td>False</td>\n",
       "      <td>[CR2]</td>\n",
       "      <td>True</td>\n",
       "      <td>410</td>\n",
       "      <td>ANA All Nippon Airways</td>\n",
       "      <td>AEROCONDOR</td>\n",
       "      <td>Portugal</td>\n",
       "      <td>2B</td>\n",
       "      <td>ARD</td>\n",
       "      <td>Aerocondor</td>\n",
       "      <td>...</td>\n",
       "      <td>N</td>\n",
       "      <td>KZN</td>\n",
       "      <td>UWKD</td>\n",
       "      <td>55.606201</td>\n",
       "      <td>49.278702</td>\n",
       "      <td>Kazan International Airport</td>\n",
       "      <td>OurAirports</td>\n",
       "      <td>3.0</td>\n",
       "      <td>airport</td>\n",
       "      <td>Europe/Moscow</td>\n",
       "    </tr>\n",
       "    <tr>\n",
       "      <th>1</th>\n",
       "      <td>False</td>\n",
       "      <td>[CR2]</td>\n",
       "      <td>True</td>\n",
       "      <td>410</td>\n",
       "      <td>ANA All Nippon Airways</td>\n",
       "      <td>AEROCONDOR</td>\n",
       "      <td>Portugal</td>\n",
       "      <td>2B</td>\n",
       "      <td>ARD</td>\n",
       "      <td>Aerocondor</td>\n",
       "      <td>...</td>\n",
       "      <td>N</td>\n",
       "      <td>KZN</td>\n",
       "      <td>UWKD</td>\n",
       "      <td>55.606201</td>\n",
       "      <td>49.278702</td>\n",
       "      <td>Kazan International Airport</td>\n",
       "      <td>OurAirports</td>\n",
       "      <td>3.0</td>\n",
       "      <td>airport</td>\n",
       "      <td>Europe/Moscow</td>\n",
       "    </tr>\n",
       "    <tr>\n",
       "      <th>2</th>\n",
       "      <td>False</td>\n",
       "      <td>[CR2]</td>\n",
       "      <td>True</td>\n",
       "      <td>410</td>\n",
       "      <td>ANA All Nippon Airways</td>\n",
       "      <td>AEROCONDOR</td>\n",
       "      <td>Portugal</td>\n",
       "      <td>2B</td>\n",
       "      <td>ARD</td>\n",
       "      <td>Aerocondor</td>\n",
       "      <td>...</td>\n",
       "      <td>N</td>\n",
       "      <td>MRV</td>\n",
       "      <td>URMM</td>\n",
       "      <td>44.225101</td>\n",
       "      <td>43.081902</td>\n",
       "      <td>Mineralnyye Vody Airport</td>\n",
       "      <td>OurAirports</td>\n",
       "      <td>3.0</td>\n",
       "      <td>airport</td>\n",
       "      <td>Europe/Moscow</td>\n",
       "    </tr>\n",
       "    <tr>\n",
       "      <th>3</th>\n",
       "      <td>False</td>\n",
       "      <td>[CR2]</td>\n",
       "      <td>True</td>\n",
       "      <td>410</td>\n",
       "      <td>ANA All Nippon Airways</td>\n",
       "      <td>AEROCONDOR</td>\n",
       "      <td>Portugal</td>\n",
       "      <td>2B</td>\n",
       "      <td>ARD</td>\n",
       "      <td>Aerocondor</td>\n",
       "      <td>...</td>\n",
       "      <td>N</td>\n",
       "      <td>KZN</td>\n",
       "      <td>UWKD</td>\n",
       "      <td>55.606201</td>\n",
       "      <td>49.278702</td>\n",
       "      <td>Kazan International Airport</td>\n",
       "      <td>OurAirports</td>\n",
       "      <td>3.0</td>\n",
       "      <td>airport</td>\n",
       "      <td>Europe/Moscow</td>\n",
       "    </tr>\n",
       "    <tr>\n",
       "      <th>4</th>\n",
       "      <td>False</td>\n",
       "      <td>[CR2]</td>\n",
       "      <td>True</td>\n",
       "      <td>410</td>\n",
       "      <td>ANA All Nippon Airways</td>\n",
       "      <td>AEROCONDOR</td>\n",
       "      <td>Portugal</td>\n",
       "      <td>2B</td>\n",
       "      <td>ARD</td>\n",
       "      <td>Aerocondor</td>\n",
       "      <td>...</td>\n",
       "      <td>N</td>\n",
       "      <td>OVB</td>\n",
       "      <td>UNNT</td>\n",
       "      <td>55.012600</td>\n",
       "      <td>82.650703</td>\n",
       "      <td>Tolmachevo Airport</td>\n",
       "      <td>OurAirports</td>\n",
       "      <td>7.0</td>\n",
       "      <td>airport</td>\n",
       "      <td>Asia/Krasnoyarsk</td>\n",
       "    </tr>\n",
       "  </tbody>\n",
       "</table>\n",
       "<p>5 rows × 38 columns</p>\n",
       "</div>"
      ],
      "text/plain": [
       "   codeshare equipment  airline.active  airline.airline_id  \\\n",
       "0      False     [CR2]            True                 410   \n",
       "1      False     [CR2]            True                 410   \n",
       "2      False     [CR2]            True                 410   \n",
       "3      False     [CR2]            True                 410   \n",
       "4      False     [CR2]            True                 410   \n",
       "\n",
       "            airline.alias airline.callsign airline.country airline.iata  \\\n",
       "0  ANA All Nippon Airways       AEROCONDOR        Portugal           2B   \n",
       "1  ANA All Nippon Airways       AEROCONDOR        Portugal           2B   \n",
       "2  ANA All Nippon Airways       AEROCONDOR        Portugal           2B   \n",
       "3  ANA All Nippon Airways       AEROCONDOR        Portugal           2B   \n",
       "4  ANA All Nippon Airways       AEROCONDOR        Portugal           2B   \n",
       "\n",
       "  airline.icao airline.name  ...  dst_airport.dst  dst_airport.iata  \\\n",
       "0          ARD   Aerocondor  ...                N               KZN   \n",
       "1          ARD   Aerocondor  ...                N               KZN   \n",
       "2          ARD   Aerocondor  ...                N               MRV   \n",
       "3          ARD   Aerocondor  ...                N               KZN   \n",
       "4          ARD   Aerocondor  ...                N               OVB   \n",
       "\n",
       "  dst_airport.icao dst_airport.latitude dst_airport.longitude  \\\n",
       "0             UWKD            55.606201             49.278702   \n",
       "1             UWKD            55.606201             49.278702   \n",
       "2             URMM            44.225101             43.081902   \n",
       "3             UWKD            55.606201             49.278702   \n",
       "4             UNNT            55.012600             82.650703   \n",
       "\n",
       "              dst_airport.name dst_airport.source  dst_airport.timezone  \\\n",
       "0  Kazan International Airport        OurAirports                   3.0   \n",
       "1  Kazan International Airport        OurAirports                   3.0   \n",
       "2     Mineralnyye Vody Airport        OurAirports                   3.0   \n",
       "3  Kazan International Airport        OurAirports                   3.0   \n",
       "4           Tolmachevo Airport        OurAirports                   7.0   \n",
       "\n",
       "   dst_airport.type dst_airport.tz_id  \n",
       "0           airport     Europe/Moscow  \n",
       "1           airport     Europe/Moscow  \n",
       "2           airport     Europe/Moscow  \n",
       "3           airport     Europe/Moscow  \n",
       "4           airport  Asia/Krasnoyarsk  \n",
       "\n",
       "[5 rows x 38 columns]"
      ]
     },
     "execution_count": 2,
     "metadata": {},
     "output_type": "execute_result"
    }
   ],
   "source": [
    "df = pd.read_parquet('routes.parquet', engine='fastparquet')\n",
    "df.head()"
   ]
  },
  {
   "cell_type": "code",
   "execution_count": 3,
   "id": "decreased-position",
   "metadata": {},
   "outputs": [
    {
     "data": {
      "text/plain": [
       "0        AERKZN2B\n",
       "1        ASFKZN2B\n",
       "2        ASFMRV2B\n",
       "3        CEKKZN2B\n",
       "4        CEKOVB2B\n",
       "           ...   \n",
       "67658    WYAADLZL\n",
       "67659    DMEFRUZM\n",
       "67660    FRUDMEZM\n",
       "67661    FRUOSSZM\n",
       "67662    OSSFRUZM\n",
       "Name: key, Length: 67663, dtype: object"
      ]
     },
     "execution_count": 3,
     "metadata": {},
     "output_type": "execute_result"
    }
   ],
   "source": [
    "df['key'] = df['src_airport.iata'].astype(str) + df['dst_airport.iata'].astype(str) + df['airline.iata'].astype(str)\n",
    "df['key']"
   ]
  },
  {
   "cell_type": "code",
   "execution_count": 4,
   "id": "friendly-surgery",
   "metadata": {},
   "outputs": [
    {
     "data": {
      "text/plain": [
       "0        A\n",
       "1        A\n",
       "2        A\n",
       "3        C\n",
       "4        C\n",
       "        ..\n",
       "67658    W\n",
       "67659    D\n",
       "67660    F\n",
       "67661    F\n",
       "67662    O\n",
       "Name: kv_key, Length: 67663, dtype: object"
      ]
     },
     "execution_count": 4,
     "metadata": {},
     "output_type": "execute_result"
    }
   ],
   "source": [
    "df['kv_key'] = df['key'].astype(str).str[0]\n",
    "df['kv_key']"
   ]
  },
  {
   "cell_type": "code",
   "execution_count": 5,
   "id": "assured-bouquet",
   "metadata": {},
   "outputs": [],
   "source": [
    "df.to_parquet('/home/jovyan/dsc650/results/kv/',partition_cols=['kv_key'], engine='pyarrow')"
   ]
  },
  {
   "cell_type": "markdown",
   "id": "ignored-probability",
   "metadata": {},
   "source": [
    "## results/kv Directory {-}"
   ]
  },
  {
   "cell_type": "code",
   "execution_count": 6,
   "id": "coral-pearl",
   "metadata": {},
   "outputs": [
    {
     "name": "stdout",
     "output_type": "stream",
     "text": [
      "['/home/jovyan/kv_key=A', '/home/jovyan/kv_key=N', '/home/jovyan/kv_key=P', '/home/jovyan/kv_key=Y', '/home/jovyan/kv_key=X', '/home/jovyan/kv_key=C', '/home/jovyan/kv_key=H', '/home/jovyan/kv_key=E', '/home/jovyan/kv_key=G', '/home/jovyan/kv_key=I', '/home/jovyan/kv_key=Q', '/home/jovyan/kv_key=R', '/home/jovyan/kv_key=W', '/home/jovyan/kv_key=V', '/home/jovyan/kv_key=F', '/home/jovyan/kv_key=K', '/home/jovyan/kv_key=D', '/home/jovyan/kv_key=J', '/home/jovyan/kv_key=L', '/home/jovyan/kv_key=S', '/home/jovyan/kv_key=Z', '/home/jovyan/kv_key=T', '/home/jovyan/kv_key=M', '/home/jovyan/kv_key=U', '/home/jovyan/kv_key=O', '/home/jovyan/kv_key=B']\n"
     ]
    }
   ],
   "source": [
    "def scan_dir(path):\n",
    "    print([os.path.abspath(f) for f in os.listdir(path)])\n",
    "        \n",
    "scan_dir('/home/jovyan/dsc650/results/kv/') "
   ]
  },
  {
   "cell_type": "markdown",
   "id": "public-blank",
   "metadata": {},
   "source": [
    "\n",
    "\n",
    "\n",
    "# B : {-}\n",
    "\n"
   ]
  },
  {
   "cell_type": "code",
   "execution_count": 7,
   "id": "clean-virginia",
   "metadata": {},
   "outputs": [],
   "source": [
    "def hash_key(key):\n",
    "    m = hashlib.sha256()\n",
    "    m.update(str(key).encode('utf-8'))\n",
    "    return m.hexdigest()"
   ]
  },
  {
   "cell_type": "code",
   "execution_count": 8,
   "id": "caring-elephant",
   "metadata": {},
   "outputs": [
    {
     "data": {
      "text/plain": [
       "0        652cdec02010381f175efe499e070c8cbaac1522bac59a...\n",
       "1        9eea5dd88177f8d835b2bb9cb27fb01268122b635b241a...\n",
       "2        161143856af25bd4475f62c80c19f68936a139f653c1d3...\n",
       "3        39aa99e6ae2757341bede9584473906ef1089e30820c90...\n",
       "4        143b3389bce68eea3a13ac26a9c76c1fa583ec2bd26ea8...\n",
       "                               ...                        \n",
       "67658    f31527be84c36208c05cac57dfac8a46b48a87dda151f8...\n",
       "67659    880fc35ca283ad034c90becc4e331b72ee894b9eb69f76...\n",
       "67660    e976939986fbf947bb9318018cef717c0b34dff91e5e67...\n",
       "67661    8b0c0b835a58a4250e020d51ec2a896e4ef3f5c3543b8e...\n",
       "67662    629f14f3fb6f94ebd1522d33a3c50675942e3148d028b4...\n",
       "Name: hashed, Length: 67663, dtype: object"
      ]
     },
     "execution_count": 8,
     "metadata": {},
     "output_type": "execute_result"
    }
   ],
   "source": [
    "df['hashed'] = df['key'].apply(lambda x: hash_key(x))\n",
    "df['hashed']"
   ]
  },
  {
   "cell_type": "code",
   "execution_count": 9,
   "id": "widespread-exposure",
   "metadata": {},
   "outputs": [
    {
     "data": {
      "text/plain": [
       "0        6\n",
       "1        9\n",
       "2        1\n",
       "3        3\n",
       "4        1\n",
       "        ..\n",
       "67658    f\n",
       "67659    8\n",
       "67660    e\n",
       "67661    8\n",
       "67662    6\n",
       "Name: hash_key, Length: 67663, dtype: object"
      ]
     },
     "execution_count": 9,
     "metadata": {},
     "output_type": "execute_result"
    }
   ],
   "source": [
    "df['hash_key'] = df['hashed'].astype(str).str[0]\n",
    "df['hash_key']"
   ]
  },
  {
   "cell_type": "code",
   "execution_count": 10,
   "id": "related-walker",
   "metadata": {},
   "outputs": [],
   "source": [
    "df.to_parquet('/home/jovyan/dsc650/results/hash/',partition_cols=['hash_key'], engine='pyarrow')"
   ]
  },
  {
   "cell_type": "markdown",
   "id": "wanted-crawford",
   "metadata": {},
   "source": [
    "## results/hash Directory {-}"
   ]
  },
  {
   "cell_type": "code",
   "execution_count": 11,
   "id": "hourly-internet",
   "metadata": {},
   "outputs": [
    {
     "name": "stdout",
     "output_type": "stream",
     "text": [
      "['/home/jovyan/hash_key=1', '/home/jovyan/hash_key=4', '/home/jovyan/hash_key=e', '/home/jovyan/hash_key=f', '/home/jovyan/hash_key=7', '/home/jovyan/hash_key=8', '/home/jovyan/hash_key=c', '/home/jovyan/hash_key=5', '/home/jovyan/hash_key=2', '/home/jovyan/hash_key=d', '/home/jovyan/hash_key=9', '/home/jovyan/hash_key=0', '/home/jovyan/hash_key=b', '/home/jovyan/hash_key=a', '/home/jovyan/hash_key=3', '/home/jovyan/hash_key=6']\n"
     ]
    }
   ],
   "source": [
    "scan_dir('/home/jovyan/dsc650/results/hash/')"
   ]
  },
  {
   "cell_type": "markdown",
   "id": "blind-fancy",
   "metadata": {},
   "source": [
    "\n",
    "\n",
    "\n",
    "# C : {-}\n"
   ]
  },
  {
   "cell_type": "code",
   "execution_count": 12,
   "id": "abandoned-oasis",
   "metadata": {},
   "outputs": [
    {
     "data": {
      "text/plain": [
       "0        szsrj\n",
       "1        v04pk\n",
       "2        v04pk\n",
       "3        v3gdx\n",
       "4        v3gdx\n",
       "         ...  \n",
       "67658    r41gc\n",
       "67659    ucfgn\n",
       "67660    txsuy\n",
       "67661    txsuy\n",
       "67662    tx5z0\n",
       "Name: src_airport_geodash, Length: 67663, dtype: object"
      ]
     },
     "execution_count": 12,
     "metadata": {},
     "output_type": "execute_result"
    }
   ],
   "source": [
    "df = df.rename({'src_airport.latitude':'src_airport_latitude'\n",
    ", 'src_airport.longitude': 'src_airport_longitude'}, axis=1) \n",
    "\n",
    "df['src_airport_geodash'] = df.apply(lambda x: pgh.encode(x.src_airport_latitude,x.src_airport_longitude,precision=5), axis=1)\n",
    "df['src_airport_geodash']"
   ]
  },
  {
   "cell_type": "code",
   "execution_count": 13,
   "id": "pursuant-liquid",
   "metadata": {},
   "outputs": [
    {
     "data": {
      "text/plain": [
       "0        central\n",
       "1        central\n",
       "2        central\n",
       "3        central\n",
       "4        central\n",
       "          ...   \n",
       "67658    central\n",
       "67659    central\n",
       "67660    central\n",
       "67661    central\n",
       "67662    central\n",
       "Name: location, Length: 67663, dtype: object"
      ]
     },
     "execution_count": 13,
     "metadata": {},
     "output_type": "execute_result"
    }
   ],
   "source": [
    "def det_loc(src_airport_geodash):\n",
    "    locations = dict(west = pgh.encode(45.5945645,-121.1786823),\n",
    "    central = pgh.encode(41.1544433,-96.0422378),\n",
    "    east = pgh.encode(39.08344,-77.6497145))\n",
    "    \n",
    "    dists = []\n",
    "    for x, y in locations.items():\n",
    "        hav = pgh.geohash_approximate_distance(src_airport_geodash,y)\n",
    "        dists.append(tuple((hav,x)))\n",
    "    \n",
    "    dists.sort()\n",
    "    return dists[0][1]\n",
    "\n",
    "df['location'] = df['src_airport_geodash'].apply(det_loc)\n",
    "df['location']"
   ]
  },
  {
   "cell_type": "code",
   "execution_count": 14,
   "id": "finished-barbados",
   "metadata": {},
   "outputs": [
    {
     "data": {
      "text/plain": [
       "400    central\n",
       "401    central\n",
       "402    central\n",
       "403    central\n",
       "404    central\n",
       "        ...   \n",
       "595       east\n",
       "596       east\n",
       "597       east\n",
       "598       east\n",
       "599       east\n",
       "Name: location, Length: 200, dtype: object"
      ]
     },
     "execution_count": 14,
     "metadata": {},
     "output_type": "execute_result"
    }
   ],
   "source": [
    "df['location'][400:600]"
   ]
  },
  {
   "cell_type": "code",
   "execution_count": 15,
   "id": "recorded-information",
   "metadata": {},
   "outputs": [],
   "source": [
    "df.to_parquet('/home/jovyan/dsc650/results/geo/',partition_cols=['location'], engine='pyarrow')"
   ]
  },
  {
   "cell_type": "markdown",
   "id": "environmental-european",
   "metadata": {},
   "source": [
    "## results/geo Directory {-}"
   ]
  },
  {
   "cell_type": "code",
   "execution_count": 16,
   "id": "numerous-married",
   "metadata": {},
   "outputs": [
    {
     "name": "stdout",
     "output_type": "stream",
     "text": [
      "['/home/jovyan/location=west', '/home/jovyan/location=central', '/home/jovyan/location=east']\n"
     ]
    }
   ],
   "source": [
    "scan_dir('/home/jovyan/dsc650/results/geo/')"
   ]
  },
  {
   "cell_type": "markdown",
   "id": "colonial-today",
   "metadata": {},
   "source": [
    "\n",
    "\n",
    "# D : {-}\n",
    "\n"
   ]
  },
  {
   "cell_type": "code",
   "execution_count": 17,
   "id": "african-montana",
   "metadata": {},
   "outputs": [],
   "source": [
    "def balance_partitions (keys, num_partitions):\n",
    "    partition_counts = (len(sorted(set(keys))) / num_partitions)+1\n",
    "    partitions  = []\n",
    "    curRow = 1\n",
    "    partNum = 1\n",
    "    for i in range(len(sorted(set(keys)))):\n",
    "        curKeyVal ={}\n",
    "        if curRow <= partition_counts:\n",
    "            curKeyVal[sorted(set(keys))[i]] = partNum\n",
    "            curRow = curRow + 1\n",
    "        else:\n",
    "            curRow = 1\n",
    "            partNum = partNum + 1\n",
    "            curKeyVal[sorted(set(keys))[i]] = partNum\n",
    "            curRow = curRow + 1\n",
    "        partitions .append(curKeyVal)\n",
    "    return partitions"
   ]
  },
  {
   "cell_type": "markdown",
   "id": "binary-guess",
   "metadata": {},
   "source": [
    "### Do an example {-}"
   ]
  },
  {
   "cell_type": "code",
   "execution_count": 18,
   "id": "ceramic-louisville",
   "metadata": {},
   "outputs": [],
   "source": [
    "example_list = df['src_airport_geodash'].head(100).tolist()"
   ]
  },
  {
   "cell_type": "code",
   "execution_count": 20,
   "id": "turkish-czech",
   "metadata": {},
   "outputs": [
    {
     "data": {
      "text/plain": [
       "[{'00000': 1},\n",
       " {'6mc5t': 1},\n",
       " {'6mejp': 1},\n",
       " {'6msff': 1},\n",
       " {'6myb0': 1},\n",
       " {'6q1zc': 2},\n",
       " {'6qcdy': 2},\n",
       " {'6qdbr': 2},\n",
       " {'6r7f7': 2},\n",
       " {'ebvjy': 2},\n",
       " {'ebzzu': 3},\n",
       " {'ecuzm': 3},\n",
       " {'edeef': 3},\n",
       " {'ef4r7': 3},\n",
       " {'efnym': 3},\n",
       " {'s10gh': 4},\n",
       " {'s11sn': 4},\n",
       " {'s43s9': 4},\n",
       " {'szsrj': 4},\n",
       " {'szyes': 4},\n",
       " {'tp5w4': 5},\n",
       " {'u3y8k': 5},\n",
       " {'uc400': 5},\n",
       " {'ucfgn': 5},\n",
       " {'udts0': 5},\n",
       " {'v04pk': 6},\n",
       " {'v1gh3': 6},\n",
       " {'v1twc': 6},\n",
       " {'v1vh1': 6},\n",
       " {'v3gdx': 6},\n",
       " {'v654z': 7},\n",
       " {'vcfbb': 7},\n",
       " {'vdy6s': 7},\n",
       " {'vewrv': 7},\n",
       " {'y361r': 7},\n",
       " {'y602d': 8},\n",
       " {'y655m': 8},\n",
       " {'y90xf': 8},\n",
       " {'yd31p': 8},\n",
       " {'ydc9k': 8},\n",
       " {'ye15g': 9},\n",
       " {'ygh31': 9}]"
      ]
     },
     "execution_count": 20,
     "metadata": {},
     "output_type": "execute_result"
    }
   ],
   "source": [
    "balance_partitions (example_list,10\\)"
   ]
  },
  {
   "cell_type": "code",
   "execution_count": null,
   "id": "juvenile-network",
   "metadata": {},
   "outputs": [],
   "source": []
  }
 ],
 "metadata": {
  "kernelspec": {
   "display_name": "Python 3",
   "language": "python",
   "name": "python3"
  },
  "language_info": {
   "codemirror_mode": {
    "name": "ipython",
    "version": 3
   },
   "file_extension": ".py",
   "mimetype": "text/x-python",
   "name": "python",
   "nbconvert_exporter": "python",
   "pygments_lexer": "ipython3",
   "version": "3.8.8"
  }
 },
 "nbformat": 4,
 "nbformat_minor": 5
}

{
 "cells": [
  {
   "cell_type": "markdown",
   "id": "tracked-adelaide",
   "metadata": {},
   "source": [
    "# Achraf Safsafi {-}\n",
    "# DSC650 {-}\n",
    "# Assignment 5 {-}"
   ]
  },
  {
   "cell_type": "markdown",
   "id": "unavailable-blood",
   "metadata": {},
   "source": [
    "# {-}\n",
    "\n",
    "\n"
   ]
  },
  {
   "cell_type": "markdown",
   "id": "infinite-geology",
   "metadata": {},
   "source": [
    "# Assignment 5.1 : Classifying movie reviews {-}"
   ]
  },
  {
   "cell_type": "markdown",
   "id": "blocked-differential",
   "metadata": {},
   "source": [
    "## The IMDB dataset {-}"
   ]
  },
  {
   "cell_type": "markdown",
   "id": "minimal-keyboard",
   "metadata": {},
   "source": [
    "#### Loading the IMDB dataset {-}"
   ]
  },
  {
   "cell_type": "code",
   "execution_count": 1,
   "id": "owned-gazette",
   "metadata": {},
   "outputs": [],
   "source": [
    "import warnings\n",
    "warnings.filterwarnings(\"ignore\")"
   ]
  },
  {
   "cell_type": "code",
   "execution_count": 2,
   "id": "passive-romantic",
   "metadata": {},
   "outputs": [],
   "source": [
    "\n",
    "\n",
    "from keras.datasets import imdb\n",
    "\n",
    "(train_data, train_labels), (test_data, test_labels) = imdb.load_data(num_words=10000)"
   ]
  },
  {
   "cell_type": "code",
   "execution_count": 3,
   "id": "underlying-personal",
   "metadata": {},
   "outputs": [
    {
     "name": "stdout",
     "output_type": "stream",
     "text": [
      "[1, 14, 22, 16, 43, 530, 973, 1622, 1385, 65, 458, 4468, 66, 3941, 4, 173, 36, 256, 5, 25, 100, 43, 838, 112, 50, 670, 2, 9, 35, 480, 284, 5, 150, 4, 172, 112, 167, 2, 336, 385, 39, 4, 172, 4536, 1111, 17, 546, 38, 13, 447, 4, 192, 50, 16, 6, 147, 2025, 19, 14, 22, 4, 1920, 4613, 469, 4, 22, 71, 87, 12, 16, 43, 530, 38, 76, 15, 13, 1247, 4, 22, 17, 515, 17, 12, 16, 626, 18, 2, 5, 62, 386, 12, 8, 316, 8, 106, 5, 4, 2223, 5244, 16, 480, 66, 3785, 33, 4, 130, 12, 16, 38, 619, 5, 25, 124, 51, 36, 135, 48, 25, 1415, 33, 6, 22, 12, 215, 28, 77, 52, 5, 14, 407, 16, 82, 2, 8, 4, 107, 117, 5952, 15, 256, 4, 2, 7, 3766, 5, 723, 36, 71, 43, 530, 476, 26, 400, 317, 46, 7, 4, 2, 1029, 13, 104, 88, 4, 381, 15, 297, 98, 32, 2071, 56, 26, 141, 6, 194, 7486, 18, 4, 226, 22, 21, 134, 476, 26, 480, 5, 144, 30, 5535, 18, 51, 36, 28, 224, 92, 25, 104, 4, 226, 65, 16, 38, 1334, 88, 12, 16, 283, 5, 16, 4472, 113, 103, 32, 15, 16, 5345, 19, 178, 32]\n"
     ]
    }
   ],
   "source": [
    "print(train_data[0])"
   ]
  },
  {
   "cell_type": "code",
   "execution_count": 4,
   "id": "afraid-canvas",
   "metadata": {},
   "outputs": [
    {
     "data": {
      "text/plain": [
       "1"
      ]
     },
     "execution_count": 4,
     "metadata": {},
     "output_type": "execute_result"
    }
   ],
   "source": [
    "train_labels[0]"
   ]
  },
  {
   "cell_type": "markdown",
   "id": "brief-opinion",
   "metadata": {},
   "source": [
    "##### No word ndex will exceed 10,000 {-}"
   ]
  },
  {
   "cell_type": "code",
   "execution_count": 5,
   "id": "artistic-villa",
   "metadata": {},
   "outputs": [
    {
     "data": {
      "text/plain": [
       "9999"
      ]
     },
     "execution_count": 5,
     "metadata": {},
     "output_type": "execute_result"
    }
   ],
   "source": [
    "max([max(sequence) for sequence in train_data])"
   ]
  },
  {
   "cell_type": "markdown",
   "id": "adjustable-glenn",
   "metadata": {},
   "source": [
    "##### Decode one of these reviews back to English words {-}"
   ]
  },
  {
   "cell_type": "code",
   "execution_count": 6,
   "id": "available-programming",
   "metadata": {},
   "outputs": [
    {
     "data": {
      "text/plain": [
       "\"? this film was just brilliant casting location scenery story direction everyone's really suited the part they played and you could just imagine being there robert ? is an amazing actor and now the same being director ? father came from the same scottish island as myself so i loved the fact there was a real connection with this film the witty remarks throughout the film were great it was just brilliant so much that i bought the film as soon as it was released for ? and would recommend it to everyone to watch and the fly fishing was amazing really cried at the end it was so sad and you know what they say if you cry at a film it must have been good and this definitely was also ? to the two little boy's that played the ? of norman and paul they were just brilliant children are often left out of the ? list i think because the stars that play them all grown up are such a big profile for the whole film but these children are amazing and should be praised for what they have done don't you think the whole story was so lovely because it was true and was someone's life after all that was shared with us all\""
      ]
     },
     "execution_count": 6,
     "metadata": {},
     "output_type": "execute_result"
    }
   ],
   "source": [
    "word_index = imdb.get_word_index()\n",
    "reverse_word_index = dict([(value, key) for (key, value) in word_index.items()])\n",
    "decoded_review = ' '.join([reverse_word_index.get(i - 3, '?') for i in train_data[0]])\n",
    "decoded_review"
   ]
  },
  {
   "cell_type": "markdown",
   "id": "postal-brief",
   "metadata": {},
   "source": [
    "## Preparing the data {-}"
   ]
  },
  {
   "cell_type": "markdown",
   "id": "wanted-sense",
   "metadata": {},
   "source": [
    "#### Encoding the integer sequences into a binary matrix {-}"
   ]
  },
  {
   "cell_type": "code",
   "execution_count": 7,
   "id": "sound-overview",
   "metadata": {},
   "outputs": [
    {
     "data": {
      "text/plain": [
       "array([0., 1., 1., ..., 0., 0., 0.])"
      ]
     },
     "execution_count": 7,
     "metadata": {},
     "output_type": "execute_result"
    }
   ],
   "source": [
    "\n",
    "import numpy as np\n",
    "\n",
    "def vectorize_sequences(sequences, dimension=10000):\n",
    "    results = np.zeros((len(sequences), dimension))\n",
    "    for i, sequence in enumerate(sequences):\n",
    "        results[i, sequence] = 1. \n",
    "    return results\n",
    "\n",
    "x_train = vectorize_sequences(train_data)\n",
    "x_test = vectorize_sequences(test_data)\n",
    "\n",
    "x_train[0]"
   ]
  },
  {
   "cell_type": "code",
   "execution_count": 8,
   "id": "southeast-companion",
   "metadata": {},
   "outputs": [],
   "source": [
    "y_train = np.asarray(train_labels).astype('float32')\n",
    "y_test = np.asarray(test_labels).astype('float32')"
   ]
  },
  {
   "cell_type": "markdown",
   "id": "scheduled-component",
   "metadata": {},
   "source": [
    "## Building our network {-}"
   ]
  },
  {
   "cell_type": "markdown",
   "id": "acoustic-patio",
   "metadata": {},
   "source": [
    "#### The model definition {-}"
   ]
  },
  {
   "cell_type": "code",
   "execution_count": 9,
   "id": "noble-teens",
   "metadata": {},
   "outputs": [],
   "source": [
    "from keras import models\n",
    "from keras import layers\n",
    "\n",
    "model = models.Sequential()\n",
    "model.add(layers.Dense(16, activation='relu', input_shape=(10000,)))\n",
    "model.add(layers.Dense(16, activation='relu'))\n",
    "model.add(layers.Dense(1, activation='sigmoid'))"
   ]
  },
  {
   "cell_type": "markdown",
   "id": "married-overhead",
   "metadata": {},
   "source": [
    "#### Compiling the model {-}"
   ]
  },
  {
   "cell_type": "code",
   "execution_count": 10,
   "id": "intermediate-heater",
   "metadata": {},
   "outputs": [],
   "source": [
    "model.compile(optimizer='rmsprop',\n",
    "              loss='binary_crossentropy',\n",
    "              metrics=['accuracy'])"
   ]
  },
  {
   "cell_type": "markdown",
   "id": "accepting-jacksonville",
   "metadata": {},
   "source": [
    "#### Configuring the optimizer {-}"
   ]
  },
  {
   "cell_type": "code",
   "execution_count": 11,
   "id": "senior-pillow",
   "metadata": {},
   "outputs": [],
   "source": [
    "from keras import optimizers\n",
    "\n",
    "model.compile(optimizer=optimizers.RMSprop(lr=0.001),\n",
    "              loss='binary_crossentropy',\n",
    "              metrics=['accuracy'])"
   ]
  },
  {
   "cell_type": "markdown",
   "id": "mobile-perception",
   "metadata": {},
   "source": [
    "#### Using custom losses and metrics {-}"
   ]
  },
  {
   "cell_type": "code",
   "execution_count": 12,
   "id": "conservative-header",
   "metadata": {},
   "outputs": [],
   "source": [
    "from keras import losses\n",
    "from keras import metrics\n",
    "\n",
    "model.compile(optimizer=optimizers.RMSprop(lr=0.001),\n",
    "              loss=losses.binary_crossentropy,\n",
    "              metrics=[metrics.binary_accuracy])"
   ]
  },
  {
   "cell_type": "markdown",
   "id": "corrected-convert",
   "metadata": {},
   "source": [
    "## Validating our approach {-}"
   ]
  },
  {
   "cell_type": "markdown",
   "id": "otherwise-feeding",
   "metadata": {},
   "source": [
    "#### Setting aside a validation set {-}"
   ]
  },
  {
   "cell_type": "code",
   "execution_count": 13,
   "id": "foster-genre",
   "metadata": {},
   "outputs": [],
   "source": [
    "\n",
    "x_val = x_train[:10000]\n",
    "partial_x_train = x_train[10000:]\n",
    "\n",
    "y_val = y_train[:10000]\n",
    "partial_y_train = y_train[10000:]"
   ]
  },
  {
   "cell_type": "markdown",
   "id": "sealed-crime",
   "metadata": {},
   "source": [
    "#### Training our model {-}"
   ]
  },
  {
   "cell_type": "code",
   "execution_count": 14,
   "id": "detailed-machine",
   "metadata": {},
   "outputs": [
    {
     "name": "stdout",
     "output_type": "stream",
     "text": [
      "Epoch 1/20\n",
      "30/30 [==============================] - 2s 47ms/step - loss: 0.6099 - binary_accuracy: 0.6801 - val_loss: 0.3972 - val_binary_accuracy: 0.8700\n",
      "Epoch 2/20\n",
      "30/30 [==============================] - 0s 14ms/step - loss: 0.3336 - binary_accuracy: 0.9005 - val_loss: 0.3558 - val_binary_accuracy: 0.8578\n",
      "Epoch 3/20\n",
      "30/30 [==============================] - 0s 12ms/step - loss: 0.2402 - binary_accuracy: 0.9264 - val_loss: 0.3086 - val_binary_accuracy: 0.8749\n",
      "Epoch 4/20\n",
      "30/30 [==============================] - 0s 13ms/step - loss: 0.1872 - binary_accuracy: 0.9401 - val_loss: 0.2730 - val_binary_accuracy: 0.8916\n",
      "Epoch 5/20\n",
      "30/30 [==============================] - 0s 13ms/step - loss: 0.1453 - binary_accuracy: 0.9564 - val_loss: 0.3039 - val_binary_accuracy: 0.8803\n",
      "Epoch 6/20\n",
      "30/30 [==============================] - 0s 12ms/step - loss: 0.1189 - binary_accuracy: 0.9652 - val_loss: 0.2917 - val_binary_accuracy: 0.8858\n",
      "Epoch 7/20\n",
      "30/30 [==============================] - 0s 12ms/step - loss: 0.0975 - binary_accuracy: 0.9723 - val_loss: 0.3244 - val_binary_accuracy: 0.8825\n",
      "Epoch 8/20\n",
      "30/30 [==============================] - 0s 13ms/step - loss: 0.0818 - binary_accuracy: 0.9783 - val_loss: 0.3298 - val_binary_accuracy: 0.8825\n",
      "Epoch 9/20\n",
      "30/30 [==============================] - 0s 13ms/step - loss: 0.0655 - binary_accuracy: 0.9854 - val_loss: 0.3941 - val_binary_accuracy: 0.8730\n",
      "Epoch 10/20\n",
      "30/30 [==============================] - 0s 12ms/step - loss: 0.0585 - binary_accuracy: 0.9856 - val_loss: 0.3770 - val_binary_accuracy: 0.8801\n",
      "Epoch 11/20\n",
      "30/30 [==============================] - 0s 11ms/step - loss: 0.0458 - binary_accuracy: 0.9895 - val_loss: 0.4018 - val_binary_accuracy: 0.8756\n",
      "Epoch 12/20\n",
      "30/30 [==============================] - 0s 12ms/step - loss: 0.0359 - binary_accuracy: 0.9932 - val_loss: 0.4294 - val_binary_accuracy: 0.8778\n",
      "Epoch 13/20\n",
      "30/30 [==============================] - 0s 12ms/step - loss: 0.0262 - binary_accuracy: 0.9956 - val_loss: 0.5375 - val_binary_accuracy: 0.8543\n",
      "Epoch 14/20\n",
      "30/30 [==============================] - 0s 12ms/step - loss: 0.0246 - binary_accuracy: 0.9962 - val_loss: 0.5165 - val_binary_accuracy: 0.8634\n",
      "Epoch 15/20\n",
      "30/30 [==============================] - 0s 12ms/step - loss: 0.0180 - binary_accuracy: 0.9978 - val_loss: 0.5300 - val_binary_accuracy: 0.8672\n",
      "Epoch 16/20\n",
      "30/30 [==============================] - 0s 12ms/step - loss: 0.0134 - binary_accuracy: 0.9986 - val_loss: 0.5569 - val_binary_accuracy: 0.8702\n",
      "Epoch 17/20\n",
      "30/30 [==============================] - 0s 13ms/step - loss: 0.0099 - binary_accuracy: 0.9995 - val_loss: 0.5906 - val_binary_accuracy: 0.8694\n",
      "Epoch 18/20\n",
      "30/30 [==============================] - 0s 12ms/step - loss: 0.0077 - binary_accuracy: 0.9996 - val_loss: 0.6274 - val_binary_accuracy: 0.8658\n",
      "Epoch 19/20\n",
      "30/30 [==============================] - 0s 11ms/step - loss: 0.0062 - binary_accuracy: 0.9996 - val_loss: 0.6620 - val_binary_accuracy: 0.8655\n",
      "Epoch 20/20\n",
      "30/30 [==============================] - 0s 10ms/step - loss: 0.0040 - binary_accuracy: 0.9999 - val_loss: 0.6933 - val_binary_accuracy: 0.8665\n"
     ]
    }
   ],
   "source": [
    "history = model.fit(partial_x_train,\n",
    "                    partial_y_train,\n",
    "                    epochs=20,\n",
    "                    batch_size=512,\n",
    "                    validation_data=(x_val, y_val))"
   ]
  },
  {
   "cell_type": "code",
   "execution_count": 15,
   "id": "central-disclosure",
   "metadata": {},
   "outputs": [
    {
     "data": {
      "text/plain": [
       "dict_keys(['loss', 'binary_accuracy', 'val_loss', 'val_binary_accuracy'])"
      ]
     },
     "execution_count": 15,
     "metadata": {},
     "output_type": "execute_result"
    }
   ],
   "source": [
    "history_dict = history.history\n",
    "history_dict.keys()"
   ]
  },
  {
   "cell_type": "markdown",
   "id": "outside-wells",
   "metadata": {},
   "source": [
    "#### Plotting the training and validation loss {-}"
   ]
  },
  {
   "cell_type": "code",
   "execution_count": 16,
   "id": "capital-exclusion",
   "metadata": {},
   "outputs": [
    {
     "data": {
      "image/png": "[encoded data removed]",
      "text/plain": [
       "<Figure size 432x288 with 1 Axes>"
      ]
     },
     "metadata": {
      "needs_background": "light"
     },
     "output_type": "display_data"
    }
   ],
   "source": [
    "\n",
    "import matplotlib.pyplot as plt\n",
    "\n",
    "acc = history.history['binary_accuracy']\n",
    "val_acc = history.history['val_binary_accuracy']\n",
    "loss = history.history['loss']\n",
    "val_loss = history.history['val_loss']\n",
    "\n",
    "epochs = range(1, len(loss) + 1)\n",
    "\n",
    "\n",
    "plt.plot(epochs, loss, 'bo', label='Training loss')\n",
    "plt.plot(epochs, val_loss, 'b', label='Validation loss')\n",
    "plt.title('Training and validation loss')\n",
    "plt.xlabel('Epochs')\n",
    "plt.ylabel('Loss')\n",
    "plt.legend()\n",
    "\n",
    "plt.show()"
   ]
  },
  {
   "cell_type": "markdown",
   "id": "brave-consortium",
   "metadata": {},
   "source": [
    "#### Plotting the training and validation accuracy {-}"
   ]
  },
  {
   "cell_type": "code",
   "execution_count": 17,
   "id": "constant-cambridge",
   "metadata": {},
   "outputs": [
    {
     "data": {
      "image/png": "[encoded data removed]",
      "text/plain": [
       "<Figure size 432x288 with 1 Axes>"
      ]
     },
     "metadata": {
      "needs_background": "light"
     },
     "output_type": "display_data"
    }
   ],
   "source": [
    "plt.clf()  \n",
    "acc_values = history_dict['binary_accuracy']\n",
    "val_acc_values = history_dict['val_binary_accuracy']\n",
    "\n",
    "plt.plot(epochs, acc, 'bo', label='Training acc')\n",
    "plt.plot(epochs, val_acc, 'b', label='Validation acc')\n",
    "plt.title('Training and validation accuracy')\n",
    "plt.xlabel('Epochs')\n",
    "plt.ylabel('Loss')\n",
    "plt.legend()\n",
    "\n",
    "plt.show()"
   ]
  },
  {
   "cell_type": "markdown",
   "id": "concrete-warehouse",
   "metadata": {},
   "source": [
    "#### Retraining a model from scratch {-}"
   ]
  },
  {
   "cell_type": "code",
   "execution_count": 18,
   "id": "cooperative-antique",
   "metadata": {},
   "outputs": [
    {
     "name": "stdout",
     "output_type": "stream",
     "text": [
      "Epoch 1/4\n",
      "49/49 [==============================] - 1s 13ms/step - loss: 0.5778 - accuracy: 0.7230\n",
      "Epoch 2/4\n",
      "49/49 [==============================] - 1s 11ms/step - loss: 0.2876 - accuracy: 0.9055\n",
      "Epoch 3/4\n",
      "49/49 [==============================] - 0s 9ms/step - loss: 0.2098 - accuracy: 0.9262\n",
      "Epoch 4/4\n",
      "49/49 [==============================] - 0s 8ms/step - loss: 0.1693 - accuracy: 0.9398\n",
      "782/782 [==============================] - 1s 2ms/step - loss: 0.2996 - accuracy: 0.8798\n"
     ]
    }
   ],
   "source": [
    "model = models.Sequential()\n",
    "model.add(layers.Dense(16, activation='relu', input_shape=(10000,)))\n",
    "model.add(layers.Dense(16, activation='relu'))\n",
    "model.add(layers.Dense(1, activation='sigmoid'))\n",
    "\n",
    "model.compile(optimizer='rmsprop',\n",
    "              loss='binary_crossentropy',\n",
    "              metrics=['accuracy'])\n",
    "\n",
    "model.fit(x_train, y_train, epochs=4, batch_size=512)\n",
    "results = model.evaluate(x_test, y_test)"
   ]
  },
  {
   "cell_type": "code",
   "execution_count": 19,
   "id": "introductory-comedy",
   "metadata": {},
   "outputs": [
    {
     "data": {
      "text/plain": [
       "[0.29959574341773987, 0.8797600269317627]"
      ]
     },
     "execution_count": 19,
     "metadata": {},
     "output_type": "execute_result"
    }
   ],
   "source": [
    "results"
   ]
  },
  {
   "cell_type": "markdown",
   "id": "incredible-middle",
   "metadata": {},
   "source": [
    "## Using a trained network to generate predictions on new data {-}"
   ]
  },
  {
   "cell_type": "code",
   "execution_count": 20,
   "id": "recorded-suite",
   "metadata": {},
   "outputs": [
    {
     "data": {
      "text/plain": [
       "array([[0.16862705],\n",
       "       [0.9999273 ],\n",
       "       [0.8069594 ],\n",
       "       ...,\n",
       "       [0.07418606],\n",
       "       [0.06543425],\n",
       "       [0.4470158 ]], dtype=float32)"
      ]
     },
     "execution_count": 20,
     "metadata": {},
     "output_type": "execute_result"
    }
   ],
   "source": [
    "model.predict(x_test)"
   ]
  },
  {
   "cell_type": "markdown",
   "id": "sealed-distance",
   "metadata": {},
   "source": [
    "# {-}\n",
    "\n",
    "# Assignment 5.2 : Classifying newswires {-}"
   ]
  },
  {
   "cell_type": "markdown",
   "id": "genetic-taylor",
   "metadata": {},
   "source": [
    "## The Reuters dataset {-}"
   ]
  },
  {
   "cell_type": "markdown",
   "id": "funded-account",
   "metadata": {},
   "source": [
    "#### Loading the Reuters dataset {-}"
   ]
  },
  {
   "cell_type": "code",
   "execution_count": 21,
   "id": "oriented-background",
   "metadata": {},
   "outputs": [],
   "source": [
    "from keras.datasets import reuters\n",
    "\n",
    "(train_data, train_labels), (test_data, test_labels) = reuters.load_data(num_words=10000)"
   ]
  },
  {
   "cell_type": "code",
   "execution_count": 22,
   "id": "forbidden-dispute",
   "metadata": {},
   "outputs": [
    {
     "data": {
      "text/plain": [
       "8982"
      ]
     },
     "execution_count": 22,
     "metadata": {},
     "output_type": "execute_result"
    }
   ],
   "source": [
    "len(train_data)"
   ]
  },
  {
   "cell_type": "code",
   "execution_count": 23,
   "id": "solar-finnish",
   "metadata": {},
   "outputs": [
    {
     "data": {
      "text/plain": [
       "2246"
      ]
     },
     "execution_count": 23,
     "metadata": {},
     "output_type": "execute_result"
    }
   ],
   "source": [
    "len(test_data)"
   ]
  },
  {
   "cell_type": "code",
   "execution_count": 24,
   "id": "olive-section",
   "metadata": {},
   "outputs": [
    {
     "name": "stdout",
     "output_type": "stream",
     "text": [
      "[1, 245, 273, 207, 156, 53, 74, 160, 26, 14, 46, 296, 26, 39, 74, 2979, 3554, 14, 46, 4689, 4329, 86, 61, 3499, 4795, 14, 61, 451, 4329, 17, 12]\n"
     ]
    }
   ],
   "source": [
    "print(train_data[10])"
   ]
  },
  {
   "cell_type": "markdown",
   "id": "cordless-exhibit",
   "metadata": {},
   "source": [
    "#### Decoding newswires back to text {-}"
   ]
  },
  {
   "cell_type": "code",
   "execution_count": 25,
   "id": "approved-gateway",
   "metadata": {},
   "outputs": [
    {
     "data": {
      "text/plain": [
       "'? ? ? said as a result of its december acquisition of space co it expects earnings per share in 1987 of 1 15 to 1 30 dlrs per share up from 70 cts in 1986 the company said pretax net should rise to nine to 10 mln dlrs from six mln dlrs in 1986 and rental operation revenues to 19 to 22 mln dlrs from 12 5 mln dlrs it said cash flow per share this year should be 2 50 to three dlrs reuter 3'"
      ]
     },
     "execution_count": 25,
     "metadata": {},
     "output_type": "execute_result"
    }
   ],
   "source": [
    "word_index = reuters.get_word_index()\n",
    "reverse_word_index = dict([(value, key) for (key, value) in word_index.items()])\n",
    "\n",
    "decoded_newswire = ' '.join([reverse_word_index.get(i - 3, '?') for i in train_data[0]])\n",
    "decoded_newswire"
   ]
  },
  {
   "cell_type": "code",
   "execution_count": 26,
   "id": "serial-netscape",
   "metadata": {},
   "outputs": [
    {
     "data": {
      "text/plain": [
       "3"
      ]
     },
     "execution_count": 26,
     "metadata": {},
     "output_type": "execute_result"
    }
   ],
   "source": [
    "train_labels[10]"
   ]
  },
  {
   "cell_type": "markdown",
   "id": "southeast-objective",
   "metadata": {},
   "source": [
    "## Preparing the data {-}"
   ]
  },
  {
   "cell_type": "markdown",
   "id": "characteristic-newman",
   "metadata": {},
   "source": [
    "#### Encoding the data {-}"
   ]
  },
  {
   "cell_type": "code",
   "execution_count": 27,
   "id": "understanding-parent",
   "metadata": {},
   "outputs": [],
   "source": [
    "import numpy as np\n",
    "\n",
    "def vectorize_sequences(sequences, dimension=10000):\n",
    "    results = np.zeros((len(sequences), dimension))\n",
    "    for i, sequence in enumerate(sequences):\n",
    "        results[i, sequence] = 1.\n",
    "    return results\n",
    "\n",
    "x_train = vectorize_sequences(train_data)\n",
    "x_test = vectorize_sequences(test_data)"
   ]
  },
  {
   "cell_type": "code",
   "execution_count": 28,
   "id": "directed-situation",
   "metadata": {},
   "outputs": [],
   "source": [
    "def to_one_hot(labels, dimension=46):\n",
    "    results = np.zeros((len(labels), dimension))\n",
    "    for i, label in enumerate(labels):\n",
    "        results[i, label] = 1.\n",
    "    return results\n",
    "\n",
    "one_hot_train_labels = to_one_hot(train_labels)\n",
    "one_hot_test_labels = to_one_hot(test_labels)"
   ]
  },
  {
   "cell_type": "code",
   "execution_count": 29,
   "id": "particular-phenomenon",
   "metadata": {},
   "outputs": [],
   "source": [
    "from keras.utils.np_utils import to_categorical\n",
    "\n",
    "one_hot_train_labels = to_categorical(train_labels)\n",
    "one_hot_test_labels = to_categorical(test_labels)"
   ]
  },
  {
   "cell_type": "markdown",
   "id": "growing-drove",
   "metadata": {},
   "source": [
    "## Building our network {-}"
   ]
  },
  {
   "cell_type": "markdown",
   "id": "copyrighted-faculty",
   "metadata": {},
   "source": [
    "#### Model definition {-}"
   ]
  },
  {
   "cell_type": "code",
   "execution_count": 30,
   "id": "every-caribbean",
   "metadata": {},
   "outputs": [],
   "source": [
    "from keras import models\n",
    "from keras import layers\n",
    "\n",
    "model = models.Sequential()\n",
    "model.add(layers.Dense(64, activation='relu', input_shape=(10000,)))\n",
    "model.add(layers.Dense(64, activation='relu'))\n",
    "model.add(layers.Dense(46, activation='softmax'))"
   ]
  },
  {
   "cell_type": "markdown",
   "id": "intimate-cricket",
   "metadata": {},
   "source": [
    "#### Compiling the model {-}"
   ]
  },
  {
   "cell_type": "code",
   "execution_count": 31,
   "id": "equipped-monkey",
   "metadata": {},
   "outputs": [],
   "source": [
    "model.compile(optimizer='rmsprop',\n",
    "              loss='categorical_crossentropy',\n",
    "              metrics=['accuracy'])"
   ]
  },
  {
   "cell_type": "markdown",
   "id": "academic-bristol",
   "metadata": {},
   "source": [
    "## Validating our approach {-}"
   ]
  },
  {
   "cell_type": "markdown",
   "id": "unique-million",
   "metadata": {},
   "source": [
    "#### Setting aside a validation set {-}"
   ]
  },
  {
   "cell_type": "code",
   "execution_count": 32,
   "id": "suspended-space",
   "metadata": {},
   "outputs": [],
   "source": [
    "x_val = x_train[:1000]\n",
    "partial_x_train = x_train[1000:]\n",
    "\n",
    "y_val = one_hot_train_labels[:1000]\n",
    "partial_y_train = one_hot_train_labels[1000:]"
   ]
  },
  {
   "cell_type": "markdown",
   "id": "immune-express",
   "metadata": {},
   "source": [
    "#### Training the model {-}"
   ]
  },
  {
   "cell_type": "code",
   "execution_count": 33,
   "id": "shaped-lambda",
   "metadata": {},
   "outputs": [
    {
     "name": "stdout",
     "output_type": "stream",
     "text": [
      "Epoch 1/20\n",
      "16/16 [==============================] - 1s 29ms/step - loss: 3.0710 - accuracy: 0.4364 - val_loss: 1.6837 - val_accuracy: 0.6370\n",
      "Epoch 2/20\n",
      "16/16 [==============================] - 0s 17ms/step - loss: 1.4674 - accuracy: 0.6899 - val_loss: 1.2818 - val_accuracy: 0.7150\n",
      "Epoch 3/20\n",
      "16/16 [==============================] - 0s 16ms/step - loss: 1.0750 - accuracy: 0.7643 - val_loss: 1.1426 - val_accuracy: 0.7390\n",
      "Epoch 4/20\n",
      "16/16 [==============================] - 0s 16ms/step - loss: 0.8202 - accuracy: 0.8278 - val_loss: 1.0368 - val_accuracy: 0.7700\n",
      "Epoch 5/20\n",
      "16/16 [==============================] - 0s 21ms/step - loss: 0.6546 - accuracy: 0.8640 - val_loss: 0.9590 - val_accuracy: 0.7940\n",
      "Epoch 6/20\n",
      "16/16 [==============================] - 0s 17ms/step - loss: 0.5272 - accuracy: 0.8964 - val_loss: 0.9218 - val_accuracy: 0.7990\n",
      "Epoch 7/20\n",
      "16/16 [==============================] - 0s 15ms/step - loss: 0.4383 - accuracy: 0.9109 - val_loss: 0.9115 - val_accuracy: 0.8080\n",
      "Epoch 8/20\n",
      "16/16 [==============================] - 0s 16ms/step - loss: 0.3454 - accuracy: 0.9268 - val_loss: 0.9344 - val_accuracy: 0.7910\n",
      "Epoch 9/20\n",
      "16/16 [==============================] - 0s 15ms/step - loss: 0.2834 - accuracy: 0.9405 - val_loss: 0.9008 - val_accuracy: 0.8040\n",
      "Epoch 10/20\n",
      "16/16 [==============================] - 0s 15ms/step - loss: 0.2435 - accuracy: 0.9439 - val_loss: 1.0188 - val_accuracy: 0.7780\n",
      "Epoch 11/20\n",
      "16/16 [==============================] - 0s 15ms/step - loss: 0.2132 - accuracy: 0.9504 - val_loss: 0.9124 - val_accuracy: 0.8040\n",
      "Epoch 12/20\n",
      "16/16 [==============================] - 0s 14ms/step - loss: 0.1784 - accuracy: 0.9536 - val_loss: 0.9277 - val_accuracy: 0.8010\n",
      "Epoch 13/20\n",
      "16/16 [==============================] - 0s 15ms/step - loss: 0.1532 - accuracy: 0.9571 - val_loss: 0.9558 - val_accuracy: 0.8130\n",
      "Epoch 14/20\n",
      "16/16 [==============================] - 0s 15ms/step - loss: 0.1391 - accuracy: 0.9598 - val_loss: 0.9694 - val_accuracy: 0.8060\n",
      "Epoch 15/20\n",
      "16/16 [==============================] - 0s 17ms/step - loss: 0.1305 - accuracy: 0.9614 - val_loss: 0.9987 - val_accuracy: 0.8050\n",
      "Epoch 16/20\n",
      "16/16 [==============================] - 0s 17ms/step - loss: 0.1146 - accuracy: 0.9621 - val_loss: 1.0329 - val_accuracy: 0.7930\n",
      "Epoch 17/20\n",
      "16/16 [==============================] - 0s 17ms/step - loss: 0.1232 - accuracy: 0.9570 - val_loss: 1.0481 - val_accuracy: 0.8010\n",
      "Epoch 18/20\n",
      "16/16 [==============================] - 0s 15ms/step - loss: 0.1140 - accuracy: 0.9594 - val_loss: 1.1128 - val_accuracy: 0.7920\n",
      "Epoch 19/20\n",
      "16/16 [==============================] - 0s 15ms/step - loss: 0.1091 - accuracy: 0.9637 - val_loss: 1.1062 - val_accuracy: 0.7900\n",
      "Epoch 20/20\n",
      "16/16 [==============================] - 0s 17ms/step - loss: 0.1016 - accuracy: 0.9656 - val_loss: 1.0945 - val_accuracy: 0.7950\n"
     ]
    }
   ],
   "source": [
    "history = model.fit(partial_x_train,\n",
    "                    partial_y_train,\n",
    "                    epochs=20,\n",
    "                    batch_size=512,\n",
    "                    validation_data=(x_val, y_val))"
   ]
  },
  {
   "cell_type": "markdown",
   "id": "double-consensus",
   "metadata": {},
   "source": [
    "#### Plotting the training and validation loss {-}"
   ]
  },
  {
   "cell_type": "code",
   "execution_count": 34,
   "id": "educated-intention",
   "metadata": {},
   "outputs": [
    {
     "data": {
      "image/png": "[encoded data removed]",
      "text/plain": [
       "<Figure size 432x288 with 1 Axes>"
      ]
     },
     "metadata": {
      "needs_background": "light"
     },
     "output_type": "display_data"
    }
   ],
   "source": [
    "\n",
    "import matplotlib.pyplot as plt\n",
    "\n",
    "loss = history.history['loss']\n",
    "val_loss = history.history['val_loss']\n",
    "\n",
    "epochs = range(1, len(loss) + 1)\n",
    "\n",
    "plt.plot(epochs, loss, 'bo', label='Training loss')\n",
    "plt.plot(epochs, val_loss, 'b', label='Validation loss')\n",
    "plt.title('Training and validation loss')\n",
    "plt.xlabel('Epochs')\n",
    "plt.ylabel('Loss')\n",
    "plt.legend()\n",
    "\n",
    "plt.show()"
   ]
  },
  {
   "cell_type": "markdown",
   "id": "parental-brain",
   "metadata": {},
   "source": [
    "#### Plotting the training and validation accuracy {-}"
   ]
  },
  {
   "cell_type": "code",
   "execution_count": 35,
   "id": "laden-basket",
   "metadata": {},
   "outputs": [
    {
     "data": {
      "image/png": "[encoded data removed]",
      "text/plain": [
       "<Figure size 432x288 with 1 Axes>"
      ]
     },
     "metadata": {
      "needs_background": "light"
     },
     "output_type": "display_data"
    }
   ],
   "source": [
    "plt.clf()   \n",
    "acc = history.history['accuracy']\n",
    "val_acc = history.history['val_accuracy']\n",
    "\n",
    "plt.plot(epochs, acc, 'bo', label='Training acc')\n",
    "plt.plot(epochs, val_acc, 'b', label='Validation acc')\n",
    "plt.title('Training and validation accuracy')\n",
    "plt.xlabel('Epochs')\n",
    "plt.ylabel('Loss')\n",
    "plt.legend()\n",
    "\n",
    "plt.show()"
   ]
  },
  {
   "cell_type": "markdown",
   "id": "signal-stations",
   "metadata": {},
   "source": [
    "#### Retraining a model from scratch {-}"
   ]
  },
  {
   "cell_type": "code",
   "execution_count": 36,
   "id": "electronic-fountain",
   "metadata": {},
   "outputs": [
    {
     "name": "stdout",
     "output_type": "stream",
     "text": [
      "Epoch 1/8\n",
      "16/16 [==============================] - 1s 25ms/step - loss: 3.1525 - accuracy: 0.3970 - val_loss: 1.7930 - val_accuracy: 0.6240\n",
      "Epoch 2/8\n",
      "16/16 [==============================] - 0s 16ms/step - loss: 1.5477 - accuracy: 0.6829 - val_loss: 1.3402 - val_accuracy: 0.6980\n",
      "Epoch 3/8\n",
      "16/16 [==============================] - 0s 16ms/step - loss: 1.1257 - accuracy: 0.7537 - val_loss: 1.1730 - val_accuracy: 0.7380\n",
      "Epoch 4/8\n",
      "16/16 [==============================] - 0s 18ms/step - loss: 0.8850 - accuracy: 0.8123 - val_loss: 1.0582 - val_accuracy: 0.7710\n",
      "Epoch 5/8\n",
      "16/16 [==============================] - 0s 15ms/step - loss: 0.7280 - accuracy: 0.8466 - val_loss: 0.9824 - val_accuracy: 0.7870\n",
      "Epoch 6/8\n",
      "16/16 [==============================] - 0s 16ms/step - loss: 0.5632 - accuracy: 0.8823 - val_loss: 0.9400 - val_accuracy: 0.8100\n",
      "Epoch 7/8\n",
      "16/16 [==============================] - 0s 16ms/step - loss: 0.4505 - accuracy: 0.9103 - val_loss: 0.8879 - val_accuracy: 0.8200\n",
      "Epoch 8/8\n",
      "16/16 [==============================] - 0s 14ms/step - loss: 0.3563 - accuracy: 0.9276 - val_loss: 0.8959 - val_accuracy: 0.8210\n",
      "71/71 [==============================] - 0s 2ms/step - loss: 0.9783 - accuracy: 0.7872\n"
     ]
    }
   ],
   "source": [
    "model = models.Sequential()\n",
    "model.add(layers.Dense(64, activation='relu', input_shape=(10000,)))\n",
    "model.add(layers.Dense(64, activation='relu'))\n",
    "model.add(layers.Dense(46, activation='softmax'))\n",
    "\n",
    "model.compile(optimizer='rmsprop',\n",
    "              loss='categorical_crossentropy',\n",
    "              metrics=['accuracy'])\n",
    "model.fit(partial_x_train,\n",
    "          partial_y_train,\n",
    "          epochs=8,\n",
    "          batch_size=512,\n",
    "          validation_data=(x_val, y_val))\n",
    "results = model.evaluate(x_test, one_hot_test_labels)"
   ]
  },
  {
   "cell_type": "code",
   "execution_count": 37,
   "id": "rising-telephone",
   "metadata": {},
   "outputs": [
    {
     "data": {
      "text/plain": [
       "[0.9783440828323364, 0.7871772050857544]"
      ]
     },
     "execution_count": 37,
     "metadata": {},
     "output_type": "execute_result"
    }
   ],
   "source": [
    "results"
   ]
  },
  {
   "cell_type": "markdown",
   "id": "terminal-istanbul",
   "metadata": {},
   "source": [
    "##### The accuracy reached by the random classifier is about 19% {-}"
   ]
  },
  {
   "cell_type": "code",
   "execution_count": 38,
   "id": "associate-arkansas",
   "metadata": {},
   "outputs": [
    {
     "data": {
      "text/plain": [
       "0.19545859305431879"
      ]
     },
     "execution_count": 38,
     "metadata": {},
     "output_type": "execute_result"
    }
   ],
   "source": [
    "import copy\n",
    "\n",
    "test_labels_copy = copy.copy(test_labels)\n",
    "np.random.shuffle(test_labels_copy)\n",
    "float(np.sum(np.array(test_labels) == np.array(test_labels_copy))) / len(test_labels)"
   ]
  },
  {
   "cell_type": "markdown",
   "id": "leading-enforcement",
   "metadata": {},
   "source": [
    "## Generating predictions on new data {-}"
   ]
  },
  {
   "cell_type": "markdown",
   "id": "thick-amount",
   "metadata": {},
   "source": [
    "#### Generating predictions for new data {-}"
   ]
  },
  {
   "cell_type": "code",
   "execution_count": 39,
   "id": "corresponding-sapphire",
   "metadata": {},
   "outputs": [],
   "source": [
    "predictions = model.predict(x_test)"
   ]
  },
  {
   "cell_type": "markdown",
   "id": "toxic-privilege",
   "metadata": {},
   "source": [
    "##### Each entry in predictions is a vector of length 46: {-}"
   ]
  },
  {
   "cell_type": "code",
   "execution_count": 40,
   "id": "alpine-rings",
   "metadata": {},
   "outputs": [
    {
     "data": {
      "text/plain": [
       "(46,)"
      ]
     },
     "execution_count": 40,
     "metadata": {},
     "output_type": "execute_result"
    }
   ],
   "source": [
    "predictions[0].shape"
   ]
  },
  {
   "cell_type": "markdown",
   "id": "israeli-municipality",
   "metadata": {},
   "source": [
    "##### The coefficients in this vector sum to 1: {-}"
   ]
  },
  {
   "cell_type": "code",
   "execution_count": 41,
   "id": "accredited-strand",
   "metadata": {},
   "outputs": [
    {
     "data": {
      "text/plain": [
       "0.9999999"
      ]
     },
     "execution_count": 41,
     "metadata": {},
     "output_type": "execute_result"
    }
   ],
   "source": [
    "np.sum(predictions[0])"
   ]
  },
  {
   "cell_type": "markdown",
   "id": "promotional-muscle",
   "metadata": {},
   "source": [
    "##### The largest entry is the predicted class—the class with the highest probability: {-}"
   ]
  },
  {
   "cell_type": "code",
   "execution_count": 42,
   "id": "consolidated-helping",
   "metadata": {},
   "outputs": [
    {
     "data": {
      "text/plain": [
       "3"
      ]
     },
     "execution_count": 42,
     "metadata": {},
     "output_type": "execute_result"
    }
   ],
   "source": [
    "np.argmax(predictions[0])"
   ]
  },
  {
   "cell_type": "markdown",
   "id": "working-modem",
   "metadata": {},
   "source": [
    "## A different way to handle the labels and the loss {-}"
   ]
  },
  {
   "cell_type": "code",
   "execution_count": 43,
   "id": "annual-dallas",
   "metadata": {},
   "outputs": [],
   "source": [
    "y_train = np.array(train_labels)\n",
    "y_test = np.array(test_labels)"
   ]
  },
  {
   "cell_type": "code",
   "execution_count": 44,
   "id": "preliminary-associate",
   "metadata": {},
   "outputs": [],
   "source": [
    "model.compile(optimizer='rmsprop', loss='sparse_categorical_crossentropy', metrics=['acc'])"
   ]
  },
  {
   "cell_type": "markdown",
   "id": "modular-command",
   "metadata": {},
   "source": [
    "##  The importance of having sufficiently large intermediate layers {-}"
   ]
  },
  {
   "cell_type": "markdown",
   "id": "permanent-payroll",
   "metadata": {},
   "source": [
    "#### A model with an information bottleneck {-}"
   ]
  },
  {
   "cell_type": "code",
   "execution_count": 45,
   "id": "based-activity",
   "metadata": {},
   "outputs": [
    {
     "name": "stdout",
     "output_type": "stream",
     "text": [
      "Epoch 1/20\n",
      "63/63 [==============================] - 1s 14ms/step - loss: 3.5529 - accuracy: 0.1590 - val_loss: 2.7013 - val_accuracy: 0.2520\n",
      "Epoch 2/20\n",
      "63/63 [==============================] - 0s 6ms/step - loss: 2.4127 - accuracy: 0.3419 - val_loss: 1.8286 - val_accuracy: 0.5450\n",
      "Epoch 3/20\n",
      "63/63 [==============================] - 0s 7ms/step - loss: 1.6928 - accuracy: 0.5567 - val_loss: 1.5804 - val_accuracy: 0.5720\n",
      "Epoch 4/20\n",
      "63/63 [==============================] - 0s 6ms/step - loss: 1.3713 - accuracy: 0.6072 - val_loss: 1.4630 - val_accuracy: 0.6480\n",
      "Epoch 5/20\n",
      "63/63 [==============================] - 0s 6ms/step - loss: 1.2216 - accuracy: 0.6859 - val_loss: 1.3901 - val_accuracy: 0.6760\n",
      "Epoch 6/20\n",
      "63/63 [==============================] - 0s 7ms/step - loss: 1.0505 - accuracy: 0.7205 - val_loss: 1.3382 - val_accuracy: 0.6910\n",
      "Epoch 7/20\n",
      "63/63 [==============================] - 0s 6ms/step - loss: 0.9709 - accuracy: 0.7533 - val_loss: 1.3063 - val_accuracy: 0.7030\n",
      "Epoch 8/20\n",
      "63/63 [==============================] - 0s 7ms/step - loss: 0.8349 - accuracy: 0.7954 - val_loss: 1.3540 - val_accuracy: 0.7050\n",
      "Epoch 9/20\n",
      "63/63 [==============================] - 0s 7ms/step - loss: 0.7643 - accuracy: 0.8046 - val_loss: 1.3584 - val_accuracy: 0.6980\n",
      "Epoch 10/20\n",
      "63/63 [==============================] - 0s 7ms/step - loss: 0.6983 - accuracy: 0.8252 - val_loss: 1.3388 - val_accuracy: 0.7130\n",
      "Epoch 11/20\n",
      "63/63 [==============================] - 0s 7ms/step - loss: 0.6577 - accuracy: 0.8301 - val_loss: 1.3590 - val_accuracy: 0.7200\n",
      "Epoch 12/20\n",
      "63/63 [==============================] - 0s 7ms/step - loss: 0.6226 - accuracy: 0.8393 - val_loss: 1.3927 - val_accuracy: 0.7120\n",
      "Epoch 13/20\n",
      "63/63 [==============================] - 0s 6ms/step - loss: 0.5623 - accuracy: 0.8580 - val_loss: 1.4391 - val_accuracy: 0.7190\n",
      "Epoch 14/20\n",
      "63/63 [==============================] - 0s 7ms/step - loss: 0.5325 - accuracy: 0.8610 - val_loss: 1.4704 - val_accuracy: 0.7180\n",
      "Epoch 15/20\n",
      "63/63 [==============================] - 0s 7ms/step - loss: 0.4871 - accuracy: 0.8758 - val_loss: 1.5119 - val_accuracy: 0.7230\n",
      "Epoch 16/20\n",
      "63/63 [==============================] - 0s 7ms/step - loss: 0.4781 - accuracy: 0.8766 - val_loss: 1.5572 - val_accuracy: 0.7160\n",
      "Epoch 17/20\n",
      "63/63 [==============================] - 0s 6ms/step - loss: 0.4555 - accuracy: 0.8790 - val_loss: 1.6022 - val_accuracy: 0.7170\n",
      "Epoch 18/20\n",
      "63/63 [==============================] - 0s 7ms/step - loss: 0.4328 - accuracy: 0.8860 - val_loss: 1.6134 - val_accuracy: 0.7220\n",
      "Epoch 19/20\n",
      "63/63 [==============================] - 0s 7ms/step - loss: 0.4052 - accuracy: 0.8881 - val_loss: 1.6638 - val_accuracy: 0.7140\n",
      "Epoch 20/20\n",
      "63/63 [==============================] - 0s 6ms/step - loss: 0.4018 - accuracy: 0.8941 - val_loss: 1.7169 - val_accuracy: 0.7210\n"
     ]
    },
    {
     "data": {
      "text/plain": [
       "<tensorflow.python.keras.callbacks.History at 0x7f4a341dc220>"
      ]
     },
     "execution_count": 45,
     "metadata": {},
     "output_type": "execute_result"
    }
   ],
   "source": [
    "model = models.Sequential()\n",
    "model.add(layers.Dense(64, activation='relu', input_shape=(10000,)))\n",
    "model.add(layers.Dense(4, activation='relu'))\n",
    "model.add(layers.Dense(46, activation='softmax'))\n",
    "\n",
    "model.compile(optimizer='rmsprop',\n",
    "              loss='categorical_crossentropy',\n",
    "              metrics=['accuracy'])\n",
    "model.fit(partial_x_train,\n",
    "          partial_y_train,\n",
    "          epochs=20,\n",
    "          batch_size=128,\n",
    "          validation_data=(x_val, y_val))"
   ]
  },
  {
   "cell_type": "markdown",
   "id": "spanish-bernard",
   "metadata": {},
   "source": [
    "# {-}\n",
    "\n",
    "# Assignment 5.3 : Predicting house prices {-}"
   ]
  },
  {
   "cell_type": "markdown",
   "id": "capable-function",
   "metadata": {},
   "source": [
    "## The Boston Housing Price dataset {-}"
   ]
  },
  {
   "cell_type": "markdown",
   "id": "metropolitan-sender",
   "metadata": {},
   "source": [
    "####  Loading the Boston housing dataset {-}"
   ]
  },
  {
   "cell_type": "code",
   "execution_count": 46,
   "id": "recognized-description",
   "metadata": {},
   "outputs": [],
   "source": [
    "from keras.datasets import boston_housing\n",
    "\n",
    "(train_data, train_targets), (test_data, test_targets) =  boston_housing.load_data()"
   ]
  },
  {
   "cell_type": "code",
   "execution_count": 47,
   "id": "civilian-harvard",
   "metadata": {},
   "outputs": [
    {
     "data": {
      "text/plain": [
       "(404, 13)"
      ]
     },
     "execution_count": 47,
     "metadata": {},
     "output_type": "execute_result"
    }
   ],
   "source": [
    "train_data.shape"
   ]
  },
  {
   "cell_type": "code",
   "execution_count": 48,
   "id": "crude-shooting",
   "metadata": {},
   "outputs": [
    {
     "data": {
      "text/plain": [
       "(102, 13)"
      ]
     },
     "execution_count": 48,
     "metadata": {},
     "output_type": "execute_result"
    }
   ],
   "source": [
    "test_data.shape"
   ]
  },
  {
   "cell_type": "code",
   "execution_count": 49,
   "id": "coastal-parish",
   "metadata": {},
   "outputs": [
    {
     "data": {
      "text/plain": [
       "array([15.2, 42.3, 50. , 21.1, 17.7, 18.5, 11.3, 15.6, 15.6, 14.4, 12.1,\n",
       "       17.9, 23.1, 19.9, 15.7,  8.8, 50. , 22.5, 24.1, 27.5, 10.9, 30.8,\n",
       "       32.9, 24. , 18.5, 13.3, 22.9, 34.7, 16.6, 17.5, 22.3, 16.1, 14.9,\n",
       "       23.1, 34.9, 25. , 13.9, 13.1, 20.4, 20. , 15.2, 24.7, 22.2, 16.7,\n",
       "       12.7, 15.6, 18.4, 21. , 30.1, 15.1, 18.7,  9.6, 31.5, 24.8, 19.1,\n",
       "       22. , 14.5, 11. , 32. , 29.4, 20.3, 24.4, 14.6, 19.5, 14.1, 14.3,\n",
       "       15.6, 10.5,  6.3, 19.3, 19.3, 13.4, 36.4, 17.8, 13.5, 16.5,  8.3,\n",
       "       14.3, 16. , 13.4, 28.6, 43.5, 20.2, 22. , 23. , 20.7, 12.5, 48.5,\n",
       "       14.6, 13.4, 23.7, 50. , 21.7, 39.8, 38.7, 22.2, 34.9, 22.5, 31.1,\n",
       "       28.7, 46. , 41.7, 21. , 26.6, 15. , 24.4, 13.3, 21.2, 11.7, 21.7,\n",
       "       19.4, 50. , 22.8, 19.7, 24.7, 36.2, 14.2, 18.9, 18.3, 20.6, 24.6,\n",
       "       18.2,  8.7, 44. , 10.4, 13.2, 21.2, 37. , 30.7, 22.9, 20. , 19.3,\n",
       "       31.7, 32. , 23.1, 18.8, 10.9, 50. , 19.6,  5. , 14.4, 19.8, 13.8,\n",
       "       19.6, 23.9, 24.5, 25. , 19.9, 17.2, 24.6, 13.5, 26.6, 21.4, 11.9,\n",
       "       22.6, 19.6,  8.5, 23.7, 23.1, 22.4, 20.5, 23.6, 18.4, 35.2, 23.1,\n",
       "       27.9, 20.6, 23.7, 28. , 13.6, 27.1, 23.6, 20.6, 18.2, 21.7, 17.1,\n",
       "        8.4, 25.3, 13.8, 22.2, 18.4, 20.7, 31.6, 30.5, 20.3,  8.8, 19.2,\n",
       "       19.4, 23.1, 23. , 14.8, 48.8, 22.6, 33.4, 21.1, 13.6, 32.2, 13.1,\n",
       "       23.4, 18.9, 23.9, 11.8, 23.3, 22.8, 19.6, 16.7, 13.4, 22.2, 20.4,\n",
       "       21.8, 26.4, 14.9, 24.1, 23.8, 12.3, 29.1, 21. , 19.5, 23.3, 23.8,\n",
       "       17.8, 11.5, 21.7, 19.9, 25. , 33.4, 28.5, 21.4, 24.3, 27.5, 33.1,\n",
       "       16.2, 23.3, 48.3, 22.9, 22.8, 13.1, 12.7, 22.6, 15. , 15.3, 10.5,\n",
       "       24. , 18.5, 21.7, 19.5, 33.2, 23.2,  5. , 19.1, 12.7, 22.3, 10.2,\n",
       "       13.9, 16.3, 17. , 20.1, 29.9, 17.2, 37.3, 45.4, 17.8, 23.2, 29. ,\n",
       "       22. , 18. , 17.4, 34.6, 20.1, 25. , 15.6, 24.8, 28.2, 21.2, 21.4,\n",
       "       23.8, 31. , 26.2, 17.4, 37.9, 17.5, 20. ,  8.3, 23.9,  8.4, 13.8,\n",
       "        7.2, 11.7, 17.1, 21.6, 50. , 16.1, 20.4, 20.6, 21.4, 20.6, 36.5,\n",
       "        8.5, 24.8, 10.8, 21.9, 17.3, 18.9, 36.2, 14.9, 18.2, 33.3, 21.8,\n",
       "       19.7, 31.6, 24.8, 19.4, 22.8,  7.5, 44.8, 16.8, 18.7, 50. , 50. ,\n",
       "       19.5, 20.1, 50. , 17.2, 20.8, 19.3, 41.3, 20.4, 20.5, 13.8, 16.5,\n",
       "       23.9, 20.6, 31.5, 23.3, 16.8, 14. , 33.8, 36.1, 12.8, 18.3, 18.7,\n",
       "       19.1, 29. , 30.1, 50. , 50. , 22. , 11.9, 37.6, 50. , 22.7, 20.8,\n",
       "       23.5, 27.9, 50. , 19.3, 23.9, 22.6, 15.2, 21.7, 19.2, 43.8, 20.3,\n",
       "       33.2, 19.9, 22.5, 32.7, 22. , 17.1, 19. , 15. , 16.1, 25.1, 23.7,\n",
       "       28.7, 37.2, 22.6, 16.4, 25. , 29.8, 22.1, 17.4, 18.1, 30.3, 17.5,\n",
       "       24.7, 12.6, 26.5, 28.7, 13.3, 10.4, 24.4, 23. , 20. , 17.8,  7. ,\n",
       "       11.8, 24.4, 13.8, 19.4, 25.2, 19.4, 19.4, 29.1])"
      ]
     },
     "execution_count": 49,
     "metadata": {},
     "output_type": "execute_result"
    }
   ],
   "source": [
    "train_targets"
   ]
  },
  {
   "cell_type": "markdown",
   "id": "pressing-canon",
   "metadata": {},
   "source": [
    "## Preparing the data {-}"
   ]
  },
  {
   "cell_type": "markdown",
   "id": "uniform-table",
   "metadata": {},
   "source": [
    "#### Normalizing the data {-}"
   ]
  },
  {
   "cell_type": "code",
   "execution_count": 50,
   "id": "spanish-mixer",
   "metadata": {},
   "outputs": [],
   "source": [
    "mean = train_data.mean(axis=0)\n",
    "train_data -= mean\n",
    "std = train_data.std(axis=0)\n",
    "train_data /= std\n",
    "\n",
    "test_data -= mean\n",
    "test_data /= std"
   ]
  },
  {
   "cell_type": "markdown",
   "id": "express-civilian",
   "metadata": {},
   "source": [
    "## Building our network {-}"
   ]
  },
  {
   "cell_type": "markdown",
   "id": "worse-prospect",
   "metadata": {},
   "source": [
    "#### Model definition {-}"
   ]
  },
  {
   "cell_type": "code",
   "execution_count": 51,
   "id": "smoking-reply",
   "metadata": {},
   "outputs": [],
   "source": [
    "from keras import models\n",
    "from keras import layers\n",
    "\n",
    "def build_model():\n",
    "    model = models.Sequential()\n",
    "    model.add(layers.Dense(64, activation='relu',\n",
    "                           input_shape=(train_data.shape[1],)))\n",
    "    model.add(layers.Dense(64, activation='relu'))\n",
    "    model.add(layers.Dense(1))\n",
    "    model.compile(optimizer='rmsprop', loss='mse', metrics=['mae'])\n",
    "    return model"
   ]
  },
  {
   "cell_type": "markdown",
   "id": "demonstrated-institution",
   "metadata": {},
   "source": [
    "## Validating our approach using K-fold validation {-}"
   ]
  },
  {
   "cell_type": "markdown",
   "id": "english-opportunity",
   "metadata": {},
   "source": [
    "#### K-fold validation {-}"
   ]
  },
  {
   "cell_type": "code",
   "execution_count": 52,
   "id": "running-loading",
   "metadata": {},
   "outputs": [
    {
     "name": "stdout",
     "output_type": "stream",
     "text": [
      "processing fold # 0\n",
      "processing fold # 1\n",
      "processing fold # 2\n",
      "processing fold # 3\n"
     ]
    }
   ],
   "source": [
    "\n",
    "import numpy as np\n",
    "\n",
    "k = 4\n",
    "num_val_samples = len(train_data) // k\n",
    "num_epochs = 100\n",
    "all_scores = []\n",
    "for i in range(k):\n",
    "    print('processing fold #', i)\n",
    "  \n",
    "    val_data = train_data[i * num_val_samples: (i + 1) * num_val_samples]\n",
    "    val_targets = train_targets[i * num_val_samples: (i + 1) * num_val_samples]\n",
    "\n",
    "    partial_train_data = np.concatenate(\n",
    "        [train_data[:i * num_val_samples],\n",
    "         train_data[(i + 1) * num_val_samples:]],\n",
    "        axis=0)\n",
    "    partial_train_targets = np.concatenate(\n",
    "        [train_targets[:i * num_val_samples],\n",
    "         train_targets[(i + 1) * num_val_samples:]],\n",
    "        axis=0)\n",
    "\n",
    "    model = build_model()\n",
    "    model.fit(partial_train_data, partial_train_targets,\n",
    "              epochs=num_epochs, batch_size=1, verbose=0)\n",
    "\n",
    "    val_mse, val_mae = model.evaluate(val_data, val_targets, verbose=0)\n",
    "    all_scores.append(val_mae)"
   ]
  },
  {
   "cell_type": "code",
   "execution_count": 53,
   "id": "noted-yemen",
   "metadata": {},
   "outputs": [
    {
     "data": {
      "text/plain": [
       "[2.2719955444335938, 2.6824657917022705, 2.980651617050171, 2.458961248397827]"
      ]
     },
     "execution_count": 53,
     "metadata": {},
     "output_type": "execute_result"
    }
   ],
   "source": [
    "all_scores"
   ]
  },
  {
   "cell_type": "code",
   "execution_count": 54,
   "id": "secure-witch",
   "metadata": {},
   "outputs": [
    {
     "data": {
      "text/plain": [
       "2.5985185503959656"
      ]
     },
     "execution_count": 54,
     "metadata": {},
     "output_type": "execute_result"
    }
   ],
   "source": [
    "np.mean(all_scores)"
   ]
  },
  {
   "cell_type": "markdown",
   "id": "indian-belly",
   "metadata": {},
   "source": [
    "#### Saving the validation logs at each fold {-}"
   ]
  },
  {
   "cell_type": "code",
   "execution_count": 55,
   "id": "south-costume",
   "metadata": {},
   "outputs": [
    {
     "name": "stdout",
     "output_type": "stream",
     "text": [
      "processing fold # 0\n",
      "processing fold # 1\n",
      "processing fold # 2\n",
      "processing fold # 3\n"
     ]
    }
   ],
   "source": [
    "num_epochs = 500\n",
    "all_mae_histories = []\n",
    "for i in range(k):\n",
    "    print('processing fold #', i)\n",
    "    val_data = train_data[i * num_val_samples: (i + 1) * num_val_samples]\n",
    "    val_targets = train_targets[i * num_val_samples: (i + 1) * num_val_samples]\n",
    "\n",
    "    partial_train_data = np.concatenate(\n",
    "        [train_data[:i * num_val_samples],\n",
    "         train_data[(i + 1) * num_val_samples:]],\n",
    "        axis=0)\n",
    "    partial_train_targets = np.concatenate(\n",
    "        [train_targets[:i * num_val_samples],\n",
    "         train_targets[(i + 1) * num_val_samples:]],\n",
    "        axis=0)\n",
    "\n",
    "    model = build_model()\n",
    "    history = model.fit(partial_train_data, partial_train_targets,\n",
    "                        validation_data=(val_data, val_targets),\n",
    "                        epochs=num_epochs, batch_size=1, verbose=0)\n",
    "    mae_history = history.history['val_mae']\n",
    "    all_mae_histories.append(mae_history)"
   ]
  },
  {
   "cell_type": "markdown",
   "id": "intimate-house",
   "metadata": {},
   "source": [
    "#### Building the history of successive mean K-fold validation scores {-}"
   ]
  },
  {
   "cell_type": "code",
   "execution_count": 56,
   "id": "fossil-prisoner",
   "metadata": {},
   "outputs": [],
   "source": [
    "average_mae_history = [\n",
    "    np.mean([x[i] for x in all_mae_histories]) for i in range(num_epochs)]"
   ]
  },
  {
   "cell_type": "markdown",
   "id": "introductory-archives",
   "metadata": {},
   "source": [
    "#### Plotting validation scores {-}"
   ]
  },
  {
   "cell_type": "code",
   "execution_count": 57,
   "id": "magnetic-twist",
   "metadata": {},
   "outputs": [
    {
     "data": {
      "image/png": "[encoded data removed]",
      "text/plain": [
       "<Figure size 432x288 with 1 Axes>"
      ]
     },
     "metadata": {
      "needs_background": "light"
     },
     "output_type": "display_data"
    }
   ],
   "source": [
    "import matplotlib.pyplot as plt\n",
    "\n",
    "plt.plot(range(1, len(average_mae_history) + 1), average_mae_history)\n",
    "plt.xlabel('Epochs')\n",
    "plt.ylabel('Validation MAE')\n",
    "plt.show()"
   ]
  },
  {
   "cell_type": "markdown",
   "id": "seventh-maker",
   "metadata": {},
   "source": [
    "#### Plotting validation scores, excluding the first 10 data points {-}"
   ]
  },
  {
   "cell_type": "code",
   "execution_count": 58,
   "id": "furnished-violation",
   "metadata": {},
   "outputs": [
    {
     "data": {
      "image/png": "[encoded data removed]",
      "text/plain": [
       "<Figure size 432x288 with 1 Axes>"
      ]
     },
     "metadata": {
      "needs_background": "light"
     },
     "output_type": "display_data"
    }
   ],
   "source": [
    "def smooth_curve(points, factor=0.9):\n",
    "  smoothed_points = []\n",
    "  for point in points:\n",
    "    if smoothed_points:\n",
    "      previous = smoothed_points[-1]\n",
    "      smoothed_points.append(previous * factor + point * (1 - factor))\n",
    "    else:\n",
    "      smoothed_points.append(point)\n",
    "  return smoothed_points\n",
    "\n",
    "smooth_mae_history = smooth_curve(average_mae_history[10:])\n",
    "\n",
    "plt.plot(range(1, len(smooth_mae_history) + 1), smooth_mae_history)\n",
    "plt.xlabel('Epochs')\n",
    "plt.ylabel('Validation MAE')\n",
    "plt.show()"
   ]
  },
  {
   "cell_type": "markdown",
   "id": "fitted-swimming",
   "metadata": {},
   "source": [
    "#### Training the final model {-}"
   ]
  },
  {
   "cell_type": "code",
   "execution_count": 59,
   "id": "boolean-challenge",
   "metadata": {},
   "outputs": [
    {
     "name": "stdout",
     "output_type": "stream",
     "text": [
      "4/4 [==============================] - 0s 1ms/step - loss: 18.5483 - mae: 2.6491\n"
     ]
    }
   ],
   "source": [
    "model = build_model()\n",
    "model.fit(train_data, train_targets,\n",
    "          epochs=80, batch_size=16, verbose=0)\n",
    "test_mse_score, test_mae_score = model.evaluate(test_data, test_targets)"
   ]
  },
  {
   "cell_type": "code",
   "execution_count": 60,
   "id": "cooperative-federal",
   "metadata": {},
   "outputs": [
    {
     "data": {
      "text/plain": [
       "2.6490962505340576"
      ]
     },
     "execution_count": 60,
     "metadata": {},
     "output_type": "execute_result"
    }
   ],
   "source": [
    "test_mae_score"
   ]
  }
 ],
 "metadata": {
  "kernelspec": {
   "display_name": "Python 3",
   "language": "python",
   "name": "python3"
  },
  "language_info": {
   "codemirror_mode": {
    "name": "ipython",
    "version": 3
   },
   "file_extension": ".py",
   "mimetype": "text/x-python",
   "name": "python",
   "nbconvert_exporter": "python",
   "pygments_lexer": "ipython3",
   "version": "3.8.8"
  }
 },
 "nbformat": 4,
 "nbformat_minor": 5
}

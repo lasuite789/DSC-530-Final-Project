{
 "cells": [
  {
   "cell_type": "code",
   "execution_count": 1,
   "id": "bound-parcel",
   "metadata": {},
   "outputs": [],
   "source": [
    "import os\n",
    "import sys\n",
    "import gzip\n",
    "import json\n",
    "from pathlib import Path\n",
    "import csv\n",
    "\n",
    "import pandas as pd\n",
    "import s3fs\n",
    "import pyarrow as pa\n",
    "from pyarrow.json import read_json\n",
    "import pyarrow.parquet as pq\n",
    "import fastavro\n",
    "import pygeohash\n",
    "import snappy\n",
    "import jsonschema\n",
    "from jsonschema.exceptions import ValidationError\n",
    "\n",
    "\n",
    "endpoint_url='https://storage.budsc.midwest-datascience.com'\n",
    "\n",
    "current_dir = Path(os.getcwd()).absolute()\n",
    "schema_dir = current_dir.joinpath('schemas')\n",
    "schema_dir.mkdir(parents=True, exist_ok=True)\n",
    "results_dir = current_dir.joinpath('results')\n",
    "results_dir.mkdir(parents=True, exist_ok=True)\n",
    "\n",
    "def read_jsonl_data():\n",
    "    s3 = s3fs.S3FileSystem(\n",
    "        anon=True,\n",
    "        client_kwargs={\n",
    "            'endpoint_url': endpoint_url\n",
    "        }\n",
    "    )\n",
    "    src_data_path = 'data/processed/openflights/routes.jsonl.gz'\n",
    "    with s3.open(src_data_path, 'rb') as f_gz:\n",
    "        with gzip.open(f_gz, 'rb') as f:\n",
    "            records = [json.loads(line) for line in f.readlines()]\n",
    "        \n",
    "\n",
    "    return records\n",
    "\n",
    "records = read_jsonl_data()\n"
   ]
  },
  {
   "cell_type": "code",
   "execution_count": 2,
   "id": "violent-organ",
   "metadata": {},
   "outputs": [
    {
     "data": {
      "text/plain": [
       "{'airline': {'airline_id': 410,\n",
       "  'name': 'Aerocondor',\n",
       "  'alias': 'ANA All Nippon Airways',\n",
       "  'iata': '2B',\n",
       "  'icao': 'ARD',\n",
       "  'callsign': 'AEROCONDOR',\n",
       "  'country': 'Portugal',\n",
       "  'active': True},\n",
       " 'src_airport': {'airport_id': 2965,\n",
       "  'name': 'Sochi International Airport',\n",
       "  'city': 'Sochi',\n",
       "  'country': 'Russia',\n",
       "  'iata': 'AER',\n",
       "  'icao': 'URSS',\n",
       "  'latitude': 43.449902,\n",
       "  'longitude': 39.9566,\n",
       "  'altitude': 89,\n",
       "  'timezone': 3.0,\n",
       "  'dst': 'N',\n",
       "  'tz_id': 'Europe/Moscow',\n",
       "  'type': 'airport',\n",
       "  'source': 'OurAirports'},\n",
       " 'dst_airport': {'airport_id': 2990,\n",
       "  'name': 'Kazan International Airport',\n",
       "  'city': 'Kazan',\n",
       "  'country': 'Russia',\n",
       "  'iata': 'KZN',\n",
       "  'icao': 'UWKD',\n",
       "  'latitude': 55.606201171875,\n",
       "  'longitude': 49.278701782227,\n",
       "  'altitude': 411,\n",
       "  'timezone': 3.0,\n",
       "  'dst': 'N',\n",
       "  'tz_id': 'Europe/Moscow',\n",
       "  'type': 'airport',\n",
       "  'source': 'OurAirports'},\n",
       " 'codeshare': False,\n",
       " 'equipment': ['CR2']}"
      ]
     },
     "execution_count": 2,
     "metadata": {},
     "output_type": "execute_result"
    }
   ],
   "source": [
    "\n",
    "records[0]\n"
   ]
  },
  {
   "cell_type": "markdown",
   "id": "nutritional-front",
   "metadata": {},
   "source": [
    "# 3.1"
   ]
  },
  {
   "cell_type": "markdown",
   "id": "established-textbook",
   "metadata": {},
   "source": [
    "## 3.1.a JSON Schema\n"
   ]
  },
  {
   "cell_type": "code",
   "execution_count": 3,
   "id": "printable-flexibility",
   "metadata": {},
   "outputs": [
    {
     "data": {
      "text/plain": [
       "(True, 'json routes is valid')"
      ]
     },
     "execution_count": 3,
     "metadata": {},
     "output_type": "execute_result"
    }
   ],
   "source": [
    "import requests\n",
    "\n",
    "def validate_jsonl_data(records):\n",
    "   \n",
    "\n",
    "    schema_path = schema_dir.joinpath(\"routes-schema.json\")\n",
    "    with open(schema_path) as f:\n",
    "        validation_csv_path = results_dir.joinpath(\"validation-results.csv\")\n",
    "        schema = json.load(f)\n",
    "   \n",
    "    with open(validation_csv_path, 'w') as f:    \n",
    "        for i, record in enumerate(records):\n",
    "            try:\n",
    "                jsonschema.validate(instance=record,schema= schema) \n",
    "            except ValidationError as e:\n",
    "                print('e')\n",
    "                msg='json routes is invalid'\n",
    "                return False,msg\n",
    "            msg='json routes is valid'\n",
    "            return True,msg\n",
    "            #pass\n",
    "            \n",
    "\n",
    "validate_jsonl_data(records)\n",
    "\n"
   ]
  },
  {
   "cell_type": "code",
   "execution_count": 5,
   "id": "opposite-nurse",
   "metadata": {},
   "outputs": [
    {
     "data": {
      "text/plain": [
       "'/home/jovyan/dsc650/schemas'"
      ]
     },
     "execution_count": 5,
     "metadata": {},
     "output_type": "execute_result"
    }
   ],
   "source": [
    "import os\n",
    "cwd = os.getcwd()\n",
    "cwd"
   ]
  },
  {
   "cell_type": "code",
   "execution_count": null,
   "id": "brilliant-classic",
   "metadata": {},
   "outputs": [],
   "source": []
  }
 ],
 "metadata": {
  "kernelspec": {
   "display_name": "Python 3",
   "language": "python",
   "name": "python3"
  },
  "language_info": {
   "codemirror_mode": {
    "name": "ipython",
    "version": 3
   },
   "file_extension": ".py",
   "mimetype": "text/x-python",
   "name": "python",
   "nbconvert_exporter": "python",
   "pygments_lexer": "ipython3",
   "version": "3.8.8"
  }
 },
 "nbformat": 4,
 "nbformat_minor": 5
}
